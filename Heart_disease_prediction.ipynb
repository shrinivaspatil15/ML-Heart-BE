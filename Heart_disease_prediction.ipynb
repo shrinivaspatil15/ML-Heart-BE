{
  "cells": [
    {
      "cell_type": "markdown",
      "metadata": {
        "_uuid": "e41ea25bec5928203cec544d0413fecd4b4e5555",
        "id": "iZ9gL_NURV4y"
      },
      "source": [
        "## I. Importing essential libraries"
      ]
    },
    {
      "cell_type": "code",
      "execution_count": 3,
      "metadata": {
        "_uuid": "f571f7e57c828d45fe55f6136fe8c2e796f74d4e",
        "colab": {
          "base_uri": "https://localhost:8080/"
        },
        "id": "VOGu_VjQRV41",
        "outputId": "ea3fb406-c02a-414c-f917-24f557681e0e"
      },
      "outputs": [
        {
          "name": "stdout",
          "output_type": "stream",
          "text": [
            "['.git', '.gitattributes', '.ipynb_checkpoints', '.vs', 'app.py', 'explore_page.py', 'heart.csv', 'Heart_disease_prediction.ipynb', 'predict_page.py', 'savedModel.pkl', '__pycache__']\n"
          ]
        }
      ],
      "source": [
        "import numpy as np\n",
        "import pandas as pd\n",
        "import matplotlib.pyplot as plt\n",
        "import seaborn as sns\n",
        "\n",
        "%matplotlib inline\n",
        "\n",
        "import os\n",
        "print(os.listdir())\n",
        "\n",
        "import warnings\n",
        "warnings.filterwarnings('ignore')"
      ]
    },
    {
      "cell_type": "markdown",
      "metadata": {
        "_uuid": "44e71221837f6fa60edc2c83b7492ddb019cc1cd",
        "id": "YK6n9e6TRV42"
      },
      "source": [
        "## II. Importing and understanding our dataset "
      ]
    },
    {
      "cell_type": "code",
      "execution_count": 4,
      "metadata": {
        "_uuid": "2a1a1dae64ae3c934849b2b918bc7d68cd59e3f6",
        "colab": {
          "base_uri": "https://localhost:8080/",
          "height": 73,
          "resources": {
            "http://localhost:8080/nbextensions/google.colab/files.js": {
              "data": "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",
              "headers": [
                [
                  "content-type",
                  "application/javascript"
                ]
              ],
              "ok": true,
              "status": 200,
              "status_text": ""
            }
          }
        },
        "id": "07HxpFkQRV42",
        "outputId": "2c803058-5803-49bd-82ba-f99c6cddc279"
      },
      "outputs": [],
      "source": [
        "dataset = pd.read_csv(\"heart.csv\")"
      ]
    },
    {
      "cell_type": "markdown",
      "metadata": {
        "_uuid": "481fa1d160a3256ef2470535bfb0574820fbaabd",
        "id": "iIp3WRf-RV43"
      },
      "source": [
        "#### Verifying it as a 'dataframe' object in pandas"
      ]
    },
    {
      "cell_type": "code",
      "execution_count": 5,
      "metadata": {
        "_uuid": "86353d54a331dbf55a63874402cf13e2a72c3750",
        "colab": {
          "base_uri": "https://localhost:8080/"
        },
        "id": "78NC17qARV43",
        "outputId": "d700ee95-03c5-4bc8-8c9b-f7d195d13715"
      },
      "outputs": [
        {
          "data": {
            "text/plain": [
              "pandas.core.frame.DataFrame"
            ]
          },
          "execution_count": 5,
          "metadata": {},
          "output_type": "execute_result"
        }
      ],
      "source": [
        "type(dataset)"
      ]
    },
    {
      "cell_type": "markdown",
      "metadata": {
        "_uuid": "44649a50ce58d2e10a032f7d0e7ecf435e932481",
        "id": "68RRQ7dPRV44"
      },
      "source": [
        "#### Shape of dataset"
      ]
    },
    {
      "cell_type": "code",
      "execution_count": 6,
      "metadata": {
        "_uuid": "0a2396061d262bee451e61dd51be84d0bd1ac9d0",
        "colab": {
          "base_uri": "https://localhost:8080/"
        },
        "id": "HMNktdybRV44",
        "outputId": "3906daf4-ab81-4818-c4fe-bbfd90fafcfe"
      },
      "outputs": [
        {
          "data": {
            "text/plain": [
              "(303, 14)"
            ]
          },
          "execution_count": 6,
          "metadata": {},
          "output_type": "execute_result"
        }
      ],
      "source": [
        "dataset.shape"
      ]
    },
    {
      "cell_type": "markdown",
      "metadata": {
        "_uuid": "3e1de0c39fc28f086a5e8377cc5fbdbf91d377b3",
        "id": "8OyVQU0uRV44"
      },
      "source": [
        "#### Printing out a few columns"
      ]
    },
    {
      "cell_type": "code",
      "execution_count": 7,
      "metadata": {
        "_uuid": "87ebcc578e5959fe9a9c9a538c73122183454459",
        "colab": {
          "base_uri": "https://localhost:8080/",
          "height": 206
        },
        "id": "DvnVX5_4RV45",
        "outputId": "63782aa3-e993-4081-ff36-81b23e2528d4"
      },
      "outputs": [
        {
          "data": {
            "text/html": [
              "<div>\n",
              "<style scoped>\n",
              "    .dataframe tbody tr th:only-of-type {\n",
              "        vertical-align: middle;\n",
              "    }\n",
              "\n",
              "    .dataframe tbody tr th {\n",
              "        vertical-align: top;\n",
              "    }\n",
              "\n",
              "    .dataframe thead th {\n",
              "        text-align: right;\n",
              "    }\n",
              "</style>\n",
              "<table border=\"1\" class=\"dataframe\">\n",
              "  <thead>\n",
              "    <tr style=\"text-align: right;\">\n",
              "      <th></th>\n",
              "      <th>age</th>\n",
              "      <th>sex</th>\n",
              "      <th>cp</th>\n",
              "      <th>trestbps</th>\n",
              "      <th>chol</th>\n",
              "      <th>fbs</th>\n",
              "      <th>restecg</th>\n",
              "      <th>thalach</th>\n",
              "      <th>exang</th>\n",
              "      <th>oldpeak</th>\n",
              "      <th>slope</th>\n",
              "      <th>ca</th>\n",
              "      <th>thal</th>\n",
              "      <th>target</th>\n",
              "    </tr>\n",
              "  </thead>\n",
              "  <tbody>\n",
              "    <tr>\n",
              "      <th>0</th>\n",
              "      <td>63</td>\n",
              "      <td>1</td>\n",
              "      <td>3</td>\n",
              "      <td>145</td>\n",
              "      <td>233</td>\n",
              "      <td>1</td>\n",
              "      <td>0</td>\n",
              "      <td>150</td>\n",
              "      <td>0</td>\n",
              "      <td>2.3</td>\n",
              "      <td>0</td>\n",
              "      <td>0</td>\n",
              "      <td>1</td>\n",
              "      <td>1</td>\n",
              "    </tr>\n",
              "    <tr>\n",
              "      <th>1</th>\n",
              "      <td>37</td>\n",
              "      <td>1</td>\n",
              "      <td>2</td>\n",
              "      <td>130</td>\n",
              "      <td>250</td>\n",
              "      <td>0</td>\n",
              "      <td>1</td>\n",
              "      <td>187</td>\n",
              "      <td>0</td>\n",
              "      <td>3.5</td>\n",
              "      <td>0</td>\n",
              "      <td>0</td>\n",
              "      <td>2</td>\n",
              "      <td>1</td>\n",
              "    </tr>\n",
              "    <tr>\n",
              "      <th>2</th>\n",
              "      <td>41</td>\n",
              "      <td>0</td>\n",
              "      <td>1</td>\n",
              "      <td>130</td>\n",
              "      <td>204</td>\n",
              "      <td>0</td>\n",
              "      <td>0</td>\n",
              "      <td>172</td>\n",
              "      <td>0</td>\n",
              "      <td>1.4</td>\n",
              "      <td>2</td>\n",
              "      <td>0</td>\n",
              "      <td>2</td>\n",
              "      <td>1</td>\n",
              "    </tr>\n",
              "    <tr>\n",
              "      <th>3</th>\n",
              "      <td>56</td>\n",
              "      <td>1</td>\n",
              "      <td>1</td>\n",
              "      <td>120</td>\n",
              "      <td>236</td>\n",
              "      <td>0</td>\n",
              "      <td>1</td>\n",
              "      <td>178</td>\n",
              "      <td>0</td>\n",
              "      <td>0.8</td>\n",
              "      <td>2</td>\n",
              "      <td>0</td>\n",
              "      <td>2</td>\n",
              "      <td>1</td>\n",
              "    </tr>\n",
              "    <tr>\n",
              "      <th>4</th>\n",
              "      <td>57</td>\n",
              "      <td>0</td>\n",
              "      <td>0</td>\n",
              "      <td>120</td>\n",
              "      <td>354</td>\n",
              "      <td>0</td>\n",
              "      <td>1</td>\n",
              "      <td>163</td>\n",
              "      <td>1</td>\n",
              "      <td>0.6</td>\n",
              "      <td>2</td>\n",
              "      <td>0</td>\n",
              "      <td>2</td>\n",
              "      <td>1</td>\n",
              "    </tr>\n",
              "  </tbody>\n",
              "</table>\n",
              "</div>"
            ],
            "text/plain": [
              "   age  sex  cp  trestbps  chol  fbs  restecg  thalach  exang  oldpeak  slope  \\\n",
              "0   63    1   3       145   233    1        0      150      0      2.3      0   \n",
              "1   37    1   2       130   250    0        1      187      0      3.5      0   \n",
              "2   41    0   1       130   204    0        0      172      0      1.4      2   \n",
              "3   56    1   1       120   236    0        1      178      0      0.8      2   \n",
              "4   57    0   0       120   354    0        1      163      1      0.6      2   \n",
              "\n",
              "   ca  thal  target  \n",
              "0   0     1       1  \n",
              "1   0     2       1  \n",
              "2   0     2       1  \n",
              "3   0     2       1  \n",
              "4   0     2       1  "
            ]
          },
          "execution_count": 7,
          "metadata": {},
          "output_type": "execute_result"
        }
      ],
      "source": [
        "dataset.head(5)"
      ]
    },
    {
      "cell_type": "code",
      "execution_count": 8,
      "metadata": {
        "_uuid": "5132eb43114bf99d5f857f459d0c9d2faffc9644",
        "colab": {
          "base_uri": "https://localhost:8080/",
          "height": 206
        },
        "id": "dVrbFNJzRV45",
        "outputId": "6409dc74-3e1c-4727-8654-3567b9e5b391"
      },
      "outputs": [
        {
          "data": {
            "text/html": [
              "<div>\n",
              "<style scoped>\n",
              "    .dataframe tbody tr th:only-of-type {\n",
              "        vertical-align: middle;\n",
              "    }\n",
              "\n",
              "    .dataframe tbody tr th {\n",
              "        vertical-align: top;\n",
              "    }\n",
              "\n",
              "    .dataframe thead th {\n",
              "        text-align: right;\n",
              "    }\n",
              "</style>\n",
              "<table border=\"1\" class=\"dataframe\">\n",
              "  <thead>\n",
              "    <tr style=\"text-align: right;\">\n",
              "      <th></th>\n",
              "      <th>age</th>\n",
              "      <th>sex</th>\n",
              "      <th>cp</th>\n",
              "      <th>trestbps</th>\n",
              "      <th>chol</th>\n",
              "      <th>fbs</th>\n",
              "      <th>restecg</th>\n",
              "      <th>thalach</th>\n",
              "      <th>exang</th>\n",
              "      <th>oldpeak</th>\n",
              "      <th>slope</th>\n",
              "      <th>ca</th>\n",
              "      <th>thal</th>\n",
              "      <th>target</th>\n",
              "    </tr>\n",
              "  </thead>\n",
              "  <tbody>\n",
              "    <tr>\n",
              "      <th>204</th>\n",
              "      <td>62</td>\n",
              "      <td>0</td>\n",
              "      <td>0</td>\n",
              "      <td>160</td>\n",
              "      <td>164</td>\n",
              "      <td>0</td>\n",
              "      <td>0</td>\n",
              "      <td>145</td>\n",
              "      <td>0</td>\n",
              "      <td>6.2</td>\n",
              "      <td>0</td>\n",
              "      <td>3</td>\n",
              "      <td>3</td>\n",
              "      <td>0</td>\n",
              "    </tr>\n",
              "    <tr>\n",
              "      <th>189</th>\n",
              "      <td>41</td>\n",
              "      <td>1</td>\n",
              "      <td>0</td>\n",
              "      <td>110</td>\n",
              "      <td>172</td>\n",
              "      <td>0</td>\n",
              "      <td>0</td>\n",
              "      <td>158</td>\n",
              "      <td>0</td>\n",
              "      <td>0.0</td>\n",
              "      <td>2</td>\n",
              "      <td>0</td>\n",
              "      <td>3</td>\n",
              "      <td>0</td>\n",
              "    </tr>\n",
              "    <tr>\n",
              "      <th>187</th>\n",
              "      <td>54</td>\n",
              "      <td>1</td>\n",
              "      <td>0</td>\n",
              "      <td>124</td>\n",
              "      <td>266</td>\n",
              "      <td>0</td>\n",
              "      <td>0</td>\n",
              "      <td>109</td>\n",
              "      <td>1</td>\n",
              "      <td>2.2</td>\n",
              "      <td>1</td>\n",
              "      <td>1</td>\n",
              "      <td>3</td>\n",
              "      <td>0</td>\n",
              "    </tr>\n",
              "    <tr>\n",
              "      <th>159</th>\n",
              "      <td>56</td>\n",
              "      <td>1</td>\n",
              "      <td>1</td>\n",
              "      <td>130</td>\n",
              "      <td>221</td>\n",
              "      <td>0</td>\n",
              "      <td>0</td>\n",
              "      <td>163</td>\n",
              "      <td>0</td>\n",
              "      <td>0.0</td>\n",
              "      <td>2</td>\n",
              "      <td>0</td>\n",
              "      <td>3</td>\n",
              "      <td>1</td>\n",
              "    </tr>\n",
              "    <tr>\n",
              "      <th>161</th>\n",
              "      <td>55</td>\n",
              "      <td>0</td>\n",
              "      <td>1</td>\n",
              "      <td>132</td>\n",
              "      <td>342</td>\n",
              "      <td>0</td>\n",
              "      <td>1</td>\n",
              "      <td>166</td>\n",
              "      <td>0</td>\n",
              "      <td>1.2</td>\n",
              "      <td>2</td>\n",
              "      <td>0</td>\n",
              "      <td>2</td>\n",
              "      <td>1</td>\n",
              "    </tr>\n",
              "  </tbody>\n",
              "</table>\n",
              "</div>"
            ],
            "text/plain": [
              "     age  sex  cp  trestbps  chol  fbs  restecg  thalach  exang  oldpeak  \\\n",
              "204   62    0   0       160   164    0        0      145      0      6.2   \n",
              "189   41    1   0       110   172    0        0      158      0      0.0   \n",
              "187   54    1   0       124   266    0        0      109      1      2.2   \n",
              "159   56    1   1       130   221    0        0      163      0      0.0   \n",
              "161   55    0   1       132   342    0        1      166      0      1.2   \n",
              "\n",
              "     slope  ca  thal  target  \n",
              "204      0   3     3       0  \n",
              "189      2   0     3       0  \n",
              "187      1   1     3       0  \n",
              "159      2   0     3       1  \n",
              "161      2   0     2       1  "
            ]
          },
          "execution_count": 8,
          "metadata": {},
          "output_type": "execute_result"
        }
      ],
      "source": [
        "dataset.sample(5)"
      ]
    },
    {
      "cell_type": "markdown",
      "metadata": {
        "_uuid": "1113236bec2848d33c5bfe088ff0d03246b8b7ce",
        "id": "8VB_0RzNRV45"
      },
      "source": [
        "#### Description"
      ]
    },
    {
      "cell_type": "code",
      "execution_count": 9,
      "metadata": {
        "_uuid": "c31619815cb0dae5586985671fdc21110b39a821",
        "colab": {
          "base_uri": "https://localhost:8080/",
          "height": 364
        },
        "id": "BTU_51dsRV46",
        "outputId": "00f217c9-979d-402e-9dd7-25cb37347c60"
      },
      "outputs": [
        {
          "data": {
            "text/html": [
              "<div>\n",
              "<style scoped>\n",
              "    .dataframe tbody tr th:only-of-type {\n",
              "        vertical-align: middle;\n",
              "    }\n",
              "\n",
              "    .dataframe tbody tr th {\n",
              "        vertical-align: top;\n",
              "    }\n",
              "\n",
              "    .dataframe thead th {\n",
              "        text-align: right;\n",
              "    }\n",
              "</style>\n",
              "<table border=\"1\" class=\"dataframe\">\n",
              "  <thead>\n",
              "    <tr style=\"text-align: right;\">\n",
              "      <th></th>\n",
              "      <th>age</th>\n",
              "      <th>sex</th>\n",
              "      <th>cp</th>\n",
              "      <th>trestbps</th>\n",
              "      <th>chol</th>\n",
              "      <th>fbs</th>\n",
              "      <th>restecg</th>\n",
              "      <th>thalach</th>\n",
              "      <th>exang</th>\n",
              "      <th>oldpeak</th>\n",
              "      <th>slope</th>\n",
              "      <th>ca</th>\n",
              "      <th>thal</th>\n",
              "      <th>target</th>\n",
              "    </tr>\n",
              "  </thead>\n",
              "  <tbody>\n",
              "    <tr>\n",
              "      <th>count</th>\n",
              "      <td>303.000000</td>\n",
              "      <td>303.000000</td>\n",
              "      <td>303.000000</td>\n",
              "      <td>303.000000</td>\n",
              "      <td>303.000000</td>\n",
              "      <td>303.000000</td>\n",
              "      <td>303.000000</td>\n",
              "      <td>303.000000</td>\n",
              "      <td>303.000000</td>\n",
              "      <td>303.000000</td>\n",
              "      <td>303.000000</td>\n",
              "      <td>303.000000</td>\n",
              "      <td>303.000000</td>\n",
              "      <td>303.000000</td>\n",
              "    </tr>\n",
              "    <tr>\n",
              "      <th>mean</th>\n",
              "      <td>54.366337</td>\n",
              "      <td>0.683168</td>\n",
              "      <td>0.966997</td>\n",
              "      <td>131.623762</td>\n",
              "      <td>246.264026</td>\n",
              "      <td>0.148515</td>\n",
              "      <td>0.528053</td>\n",
              "      <td>149.646865</td>\n",
              "      <td>0.326733</td>\n",
              "      <td>1.039604</td>\n",
              "      <td>1.399340</td>\n",
              "      <td>0.729373</td>\n",
              "      <td>2.313531</td>\n",
              "      <td>0.544554</td>\n",
              "    </tr>\n",
              "    <tr>\n",
              "      <th>std</th>\n",
              "      <td>9.082101</td>\n",
              "      <td>0.466011</td>\n",
              "      <td>1.032052</td>\n",
              "      <td>17.538143</td>\n",
              "      <td>51.830751</td>\n",
              "      <td>0.356198</td>\n",
              "      <td>0.525860</td>\n",
              "      <td>22.905161</td>\n",
              "      <td>0.469794</td>\n",
              "      <td>1.161075</td>\n",
              "      <td>0.616226</td>\n",
              "      <td>1.022606</td>\n",
              "      <td>0.612277</td>\n",
              "      <td>0.498835</td>\n",
              "    </tr>\n",
              "    <tr>\n",
              "      <th>min</th>\n",
              "      <td>29.000000</td>\n",
              "      <td>0.000000</td>\n",
              "      <td>0.000000</td>\n",
              "      <td>94.000000</td>\n",
              "      <td>126.000000</td>\n",
              "      <td>0.000000</td>\n",
              "      <td>0.000000</td>\n",
              "      <td>71.000000</td>\n",
              "      <td>0.000000</td>\n",
              "      <td>0.000000</td>\n",
              "      <td>0.000000</td>\n",
              "      <td>0.000000</td>\n",
              "      <td>0.000000</td>\n",
              "      <td>0.000000</td>\n",
              "    </tr>\n",
              "    <tr>\n",
              "      <th>25%</th>\n",
              "      <td>47.500000</td>\n",
              "      <td>0.000000</td>\n",
              "      <td>0.000000</td>\n",
              "      <td>120.000000</td>\n",
              "      <td>211.000000</td>\n",
              "      <td>0.000000</td>\n",
              "      <td>0.000000</td>\n",
              "      <td>133.500000</td>\n",
              "      <td>0.000000</td>\n",
              "      <td>0.000000</td>\n",
              "      <td>1.000000</td>\n",
              "      <td>0.000000</td>\n",
              "      <td>2.000000</td>\n",
              "      <td>0.000000</td>\n",
              "    </tr>\n",
              "    <tr>\n",
              "      <th>50%</th>\n",
              "      <td>55.000000</td>\n",
              "      <td>1.000000</td>\n",
              "      <td>1.000000</td>\n",
              "      <td>130.000000</td>\n",
              "      <td>240.000000</td>\n",
              "      <td>0.000000</td>\n",
              "      <td>1.000000</td>\n",
              "      <td>153.000000</td>\n",
              "      <td>0.000000</td>\n",
              "      <td>0.800000</td>\n",
              "      <td>1.000000</td>\n",
              "      <td>0.000000</td>\n",
              "      <td>2.000000</td>\n",
              "      <td>1.000000</td>\n",
              "    </tr>\n",
              "    <tr>\n",
              "      <th>75%</th>\n",
              "      <td>61.000000</td>\n",
              "      <td>1.000000</td>\n",
              "      <td>2.000000</td>\n",
              "      <td>140.000000</td>\n",
              "      <td>274.500000</td>\n",
              "      <td>0.000000</td>\n",
              "      <td>1.000000</td>\n",
              "      <td>166.000000</td>\n",
              "      <td>1.000000</td>\n",
              "      <td>1.600000</td>\n",
              "      <td>2.000000</td>\n",
              "      <td>1.000000</td>\n",
              "      <td>3.000000</td>\n",
              "      <td>1.000000</td>\n",
              "    </tr>\n",
              "    <tr>\n",
              "      <th>max</th>\n",
              "      <td>77.000000</td>\n",
              "      <td>1.000000</td>\n",
              "      <td>3.000000</td>\n",
              "      <td>200.000000</td>\n",
              "      <td>564.000000</td>\n",
              "      <td>1.000000</td>\n",
              "      <td>2.000000</td>\n",
              "      <td>202.000000</td>\n",
              "      <td>1.000000</td>\n",
              "      <td>6.200000</td>\n",
              "      <td>2.000000</td>\n",
              "      <td>4.000000</td>\n",
              "      <td>3.000000</td>\n",
              "      <td>1.000000</td>\n",
              "    </tr>\n",
              "  </tbody>\n",
              "</table>\n",
              "</div>"
            ],
            "text/plain": [
              "              age         sex          cp    trestbps        chol         fbs  \\\n",
              "count  303.000000  303.000000  303.000000  303.000000  303.000000  303.000000   \n",
              "mean    54.366337    0.683168    0.966997  131.623762  246.264026    0.148515   \n",
              "std      9.082101    0.466011    1.032052   17.538143   51.830751    0.356198   \n",
              "min     29.000000    0.000000    0.000000   94.000000  126.000000    0.000000   \n",
              "25%     47.500000    0.000000    0.000000  120.000000  211.000000    0.000000   \n",
              "50%     55.000000    1.000000    1.000000  130.000000  240.000000    0.000000   \n",
              "75%     61.000000    1.000000    2.000000  140.000000  274.500000    0.000000   \n",
              "max     77.000000    1.000000    3.000000  200.000000  564.000000    1.000000   \n",
              "\n",
              "          restecg     thalach       exang     oldpeak       slope          ca  \\\n",
              "count  303.000000  303.000000  303.000000  303.000000  303.000000  303.000000   \n",
              "mean     0.528053  149.646865    0.326733    1.039604    1.399340    0.729373   \n",
              "std      0.525860   22.905161    0.469794    1.161075    0.616226    1.022606   \n",
              "min      0.000000   71.000000    0.000000    0.000000    0.000000    0.000000   \n",
              "25%      0.000000  133.500000    0.000000    0.000000    1.000000    0.000000   \n",
              "50%      1.000000  153.000000    0.000000    0.800000    1.000000    0.000000   \n",
              "75%      1.000000  166.000000    1.000000    1.600000    2.000000    1.000000   \n",
              "max      2.000000  202.000000    1.000000    6.200000    2.000000    4.000000   \n",
              "\n",
              "             thal      target  \n",
              "count  303.000000  303.000000  \n",
              "mean     2.313531    0.544554  \n",
              "std      0.612277    0.498835  \n",
              "min      0.000000    0.000000  \n",
              "25%      2.000000    0.000000  \n",
              "50%      2.000000    1.000000  \n",
              "75%      3.000000    1.000000  \n",
              "max      3.000000    1.000000  "
            ]
          },
          "execution_count": 9,
          "metadata": {},
          "output_type": "execute_result"
        }
      ],
      "source": [
        "dataset.describe()"
      ]
    },
    {
      "cell_type": "code",
      "execution_count": 10,
      "metadata": {
        "_uuid": "718b82039841c137ab7e08a6e79e264643134642",
        "colab": {
          "base_uri": "https://localhost:8080/"
        },
        "id": "UbWrgo42RV46",
        "outputId": "5d544c30-a07b-423a-ceec-79161c53ae0e"
      },
      "outputs": [
        {
          "name": "stdout",
          "output_type": "stream",
          "text": [
            "<class 'pandas.core.frame.DataFrame'>\n",
            "RangeIndex: 303 entries, 0 to 302\n",
            "Data columns (total 14 columns):\n",
            " #   Column    Non-Null Count  Dtype  \n",
            "---  ------    --------------  -----  \n",
            " 0   age       303 non-null    int64  \n",
            " 1   sex       303 non-null    int64  \n",
            " 2   cp        303 non-null    int64  \n",
            " 3   trestbps  303 non-null    int64  \n",
            " 4   chol      303 non-null    int64  \n",
            " 5   fbs       303 non-null    int64  \n",
            " 6   restecg   303 non-null    int64  \n",
            " 7   thalach   303 non-null    int64  \n",
            " 8   exang     303 non-null    int64  \n",
            " 9   oldpeak   303 non-null    float64\n",
            " 10  slope     303 non-null    int64  \n",
            " 11  ca        303 non-null    int64  \n",
            " 12  thal      303 non-null    int64  \n",
            " 13  target    303 non-null    int64  \n",
            "dtypes: float64(1), int64(13)\n",
            "memory usage: 33.3 KB\n"
          ]
        }
      ],
      "source": [
        "dataset.info()"
      ]
    },
    {
      "cell_type": "code",
      "execution_count": 11,
      "metadata": {
        "_uuid": "99d7182ca186d37f63b1fc433fe74ad5e2bc7d2f",
        "id": "oIl_UswoRV46"
      },
      "outputs": [],
      "source": [
        "###Luckily, we have no missing values"
      ]
    },
    {
      "cell_type": "markdown",
      "metadata": {
        "_uuid": "85b59fefde7c5ecdb50e3b8da0cb719f4e14630f",
        "id": "yIs2c8cARV46"
      },
      "source": [
        "#### Let's understand our columns better:"
      ]
    },
    {
      "cell_type": "code",
      "execution_count": 12,
      "metadata": {
        "_uuid": "5593d1021d54aad598c21f877e57969e6b47f5a8",
        "colab": {
          "base_uri": "https://localhost:8080/"
        },
        "id": "dslt2eNORV46",
        "outputId": "a79d5318-0661-4005-cde2-103268dbe07a"
      },
      "outputs": [
        {
          "name": "stdout",
          "output_type": "stream",
          "text": [
            "age:\t\t\tage\n",
            "sex:\t\t\t1: male, 0: female\n",
            "cp:\t\t\tchest pain type, 1: typical angina, 2: atypical angina, 3: non-anginal pain, 4: asymptomatic\n",
            "trestbps:\t\t\tresting blood pressure\n",
            "chol:\t\t\t serum cholestoral in mg/dl\n",
            "fbs:\t\t\tfasting blood sugar > 120 mg/dl\n",
            "restecg:\t\t\tresting electrocardiographic results (values 0,1,2)\n",
            "thalach:\t\t\t maximum heart rate achieved\n",
            "exang:\t\t\texercise induced angina\n",
            "oldpeak:\t\t\toldpeak = ST depression induced by exercise relative to rest\n",
            "slope:\t\t\tthe slope of the peak exercise ST segment\n",
            "ca:\t\t\tnumber of major vessels (0-3) colored by flourosopy\n",
            "thal:\t\t\tthal: 3 = normal; 6 = fixed defect; 7 = reversable defect\n"
          ]
        }
      ],
      "source": [
        "info = [\"age\",\"1: male, 0: female\",\"chest pain type, 1: typical angina, 2: atypical angina, 3: non-anginal pain, 4: asymptomatic\",\"resting blood pressure\",\" serum cholestoral in mg/dl\",\"fasting blood sugar > 120 mg/dl\",\"resting electrocardiographic results (values 0,1,2)\",\" maximum heart rate achieved\",\"exercise induced angina\",\"oldpeak = ST depression induced by exercise relative to rest\",\"the slope of the peak exercise ST segment\",\"number of major vessels (0-3) colored by flourosopy\",\"thal: 3 = normal; 6 = fixed defect; 7 = reversable defect\"]\n",
        "\n",
        "\n",
        "\n",
        "for i in range(len(info)):\n",
        "    print(dataset.columns[i]+\":\\t\\t\\t\"+info[i])"
      ]
    },
    {
      "cell_type": "markdown",
      "metadata": {
        "_uuid": "6a970312b67b588610a8579ecc2ba4bac0fcee04",
        "id": "hTBt39lARV47"
      },
      "source": [
        "#### Analysing the 'target' variable"
      ]
    },
    {
      "cell_type": "code",
      "execution_count": 13,
      "metadata": {
        "_uuid": "b883243919bd382193ed15e2a90f9b522bf6f1f7",
        "colab": {
          "base_uri": "https://localhost:8080/"
        },
        "id": "rpmstAoFRV47",
        "outputId": "47289cca-1505-446e-894d-07efa80949ce"
      },
      "outputs": [
        {
          "data": {
            "text/plain": [
              "count    303.000000\n",
              "mean       0.544554\n",
              "std        0.498835\n",
              "min        0.000000\n",
              "25%        0.000000\n",
              "50%        1.000000\n",
              "75%        1.000000\n",
              "max        1.000000\n",
              "Name: target, dtype: float64"
            ]
          },
          "execution_count": 13,
          "metadata": {},
          "output_type": "execute_result"
        }
      ],
      "source": [
        "dataset[\"target\"].describe()"
      ]
    },
    {
      "cell_type": "code",
      "execution_count": 14,
      "metadata": {
        "_uuid": "9c107b83e0148914826282bf1f0ab28505d577ab",
        "colab": {
          "base_uri": "https://localhost:8080/"
        },
        "id": "9Ca7G6z-RV47",
        "outputId": "0b12c22c-6fe1-413a-98c7-fda8b20ed698"
      },
      "outputs": [
        {
          "data": {
            "text/plain": [
              "array([1, 0], dtype=int64)"
            ]
          },
          "execution_count": 14,
          "metadata": {},
          "output_type": "execute_result"
        }
      ],
      "source": [
        "dataset[\"target\"].unique()"
      ]
    },
    {
      "cell_type": "markdown",
      "metadata": {
        "_uuid": "8c96e97e3f52844e8c4c6ff069f53bfe97c9982d",
        "id": "w0QNgzcaRV47"
      },
      "source": [
        "#### Clearly, this is a classification problem, with the target variable having values '0' and '1'"
      ]
    },
    {
      "cell_type": "markdown",
      "metadata": {
        "_uuid": "3ae0dfa26e2daf4cfc8e1c6f3b5008d0dab22ec0",
        "id": "auJvvfvWRV47"
      },
      "source": [
        "### Checking correlation between columns"
      ]
    },
    {
      "cell_type": "code",
      "execution_count": 15,
      "metadata": {
        "_uuid": "3059188d3874be2e0c80e13655609ac6a6fc644f",
        "colab": {
          "base_uri": "https://localhost:8080/"
        },
        "id": "dfzBAl7mRV48",
        "outputId": "45bd8d16-cd84-416b-9955-6ff67acf58be"
      },
      "outputs": [
        {
          "name": "stdout",
          "output_type": "stream",
          "text": [
            "target      1.000000\n",
            "exang       0.436757\n",
            "cp          0.433798\n",
            "oldpeak     0.430696\n",
            "thalach     0.421741\n",
            "ca          0.391724\n",
            "slope       0.345877\n",
            "thal        0.344029\n",
            "sex         0.280937\n",
            "age         0.225439\n",
            "trestbps    0.144931\n",
            "restecg     0.137230\n",
            "chol        0.085239\n",
            "fbs         0.028046\n",
            "Name: target, dtype: float64\n"
          ]
        }
      ],
      "source": [
        "print(dataset.corr()[\"target\"].abs().sort_values(ascending=False))"
      ]
    },
    {
      "cell_type": "code",
      "execution_count": 16,
      "metadata": {
        "_uuid": "6e8cf6f86952d94764c1021207fa5b383b2b84bf",
        "id": "bwksjQjtRV48"
      },
      "outputs": [],
      "source": [
        "#This shows that most columns are moderately correlated with target, but 'fbs' is very weakly correlated."
      ]
    },
    {
      "cell_type": "markdown",
      "metadata": {
        "_uuid": "40b6c0a9d03bcab78b87bd41c7df3fe1b930547a",
        "id": "FmVSzRgWRV48"
      },
      "source": [
        "## Exploratory Data Analysis (EDA)"
      ]
    },
    {
      "cell_type": "markdown",
      "metadata": {
        "_uuid": "41da6ba94903ad6ee64b1ba6a1462815ae603536",
        "id": "6HQe-NCKRV48"
      },
      "source": [
        "### First, analysing the target variable:"
      ]
    },
    {
      "cell_type": "code",
      "execution_count": 17,
      "metadata": {
        "_uuid": "29aa23ccb8e6438688e16346b3474f4cc03bae13",
        "colab": {
          "base_uri": "https://localhost:8080/",
          "height": 331
        },
        "id": "cG2lvkXTRV48",
        "outputId": "5e0a5f3b-8587-4a7a-cff0-252a8c38820b"
      },
      "outputs": [
        {
          "name": "stdout",
          "output_type": "stream",
          "text": [
            "1    165\n",
            "0    138\n",
            "Name: target, dtype: int64\n"
          ]
        },
        {
          "data": {
            "image/png": "[encoded data removed]",
            "text/plain": [
              "<Figure size 432x288 with 1 Axes>"
            ]
          },
          "metadata": {
            "needs_background": "light"
          },
          "output_type": "display_data"
        }
      ],
      "source": [
        "y = dataset[\"target\"]\n",
        "\n",
        "sns.countplot(y)\n",
        "\n",
        "\n",
        "target_temp = dataset.target.value_counts()\n",
        "\n",
        "print(target_temp)"
      ]
    },
    {
      "cell_type": "code",
      "execution_count": 18,
      "metadata": {
        "_uuid": "5240af8bcd12736900050cea077c713d7d9641df",
        "colab": {
          "base_uri": "https://localhost:8080/"
        },
        "id": "MY8XikyGRV48",
        "outputId": "75f6beda-a292-4e1e-f748-9c8c4b9f8e1e"
      },
      "outputs": [
        {
          "name": "stdout",
          "output_type": "stream",
          "text": [
            "Percentage of patience without heart problems: 45.54\n",
            "Percentage of patience with heart problems: 54.46\n"
          ]
        }
      ],
      "source": [
        "print(\"Percentage of patience without heart problems: \"+str(round(target_temp[0]*100/303,2)))\n",
        "print(\"Percentage of patience with heart problems: \"+str(round(target_temp[1]*100/303,2)))\n",
        "\n",
        "#Alternatively,\n",
        "# print(\"Percentage of patience with heart problems: \"+str(y.where(y==1).count()*100/303))\n",
        "# print(\"Percentage of patience with heart problems: \"+str(y.where(y==0).count()*100/303))\n",
        "\n",
        "# #Or,\n",
        "# countNoDisease = len(df[df.target == 0])\n",
        "# countHaveDisease = len(df[df.target == 1])"
      ]
    },
    {
      "cell_type": "markdown",
      "metadata": {
        "_uuid": "e7de1da221d4ee72e89c365fecfa7d4506f1b184",
        "id": "8mMxYos_RV48"
      },
      "source": [
        "### We'll analyse 'sex', 'cp', 'fbs', 'restecg', 'exang', 'slope', 'ca' and 'thal' features"
      ]
    },
    {
      "cell_type": "markdown",
      "metadata": {
        "_uuid": "82f9919a1312b53f22980a0071d077e5b0288d90",
        "id": "N2yGUMzJRV49"
      },
      "source": [
        "### Analysing the 'Sex' feature"
      ]
    },
    {
      "cell_type": "code",
      "execution_count": 19,
      "metadata": {
        "_uuid": "07a3fb2f44b82360d0393377029851655bcdcd31",
        "colab": {
          "base_uri": "https://localhost:8080/"
        },
        "id": "l4yibJiARV49",
        "outputId": "6179171d-1a92-4d3a-e77a-880e71bef6e8"
      },
      "outputs": [
        {
          "data": {
            "text/plain": [
              "array([1, 0], dtype=int64)"
            ]
          },
          "execution_count": 19,
          "metadata": {},
          "output_type": "execute_result"
        }
      ],
      "source": [
        "dataset[\"sex\"].unique()"
      ]
    },
    {
      "cell_type": "markdown",
      "metadata": {
        "_uuid": "623fe97e454ea061942ec6d948adeb5b7026cc65",
        "id": "0KjQT2iuRV49"
      },
      "source": [
        "##### We notice, that as expected, the 'sex' feature has 2 unique features"
      ]
    },
    {
      "cell_type": "code",
      "execution_count": 20,
      "metadata": {
        "_uuid": "5d10e6c167251e6d3b1b82a06159da234eeef721",
        "colab": {
          "base_uri": "https://localhost:8080/",
          "height": 296
        },
        "id": "WfhOLUDfRV49",
        "outputId": "65086e0e-5de8-48da-c19a-1b8008ecddab"
      },
      "outputs": [
        {
          "data": {
            "text/plain": [
              "<AxesSubplot:xlabel='sex', ylabel='target'>"
            ]
          },
          "execution_count": 20,
          "metadata": {},
          "output_type": "execute_result"
        },
        {
          "data": {
            "image/png": "[encoded data removed]",
            "text/plain": [
              "<Figure size 432x288 with 1 Axes>"
            ]
          },
          "metadata": {
            "needs_background": "light"
          },
          "output_type": "display_data"
        }
      ],
      "source": [
        "sns.barplot(dataset[\"sex\"],y)"
      ]
    },
    {
      "cell_type": "markdown",
      "metadata": {
        "_uuid": "31142d6b72ae034487a088860fe9c7ff85cf7ca2",
        "id": "i21Po1p1RV49"
      },
      "source": [
        "##### We notice, that females are more likely to have heart problems than males"
      ]
    },
    {
      "cell_type": "markdown",
      "metadata": {
        "_uuid": "f7bbd747b02746eadfa2b525544509c8545ac1af",
        "id": "VzDK5clgRV49"
      },
      "source": [
        "### Analysing the 'Chest Pain Type' feature"
      ]
    },
    {
      "cell_type": "code",
      "execution_count": 21,
      "metadata": {
        "_uuid": "7c795d4a86ee05d58e10a412add90065afbd4a70",
        "colab": {
          "base_uri": "https://localhost:8080/"
        },
        "id": "DYKEpBAbRV49",
        "outputId": "8e756f03-0fa9-4dca-b2a0-42df41577801"
      },
      "outputs": [
        {
          "data": {
            "text/plain": [
              "array([3, 2, 1, 0], dtype=int64)"
            ]
          },
          "execution_count": 21,
          "metadata": {},
          "output_type": "execute_result"
        }
      ],
      "source": [
        "dataset[\"cp\"].unique()"
      ]
    },
    {
      "cell_type": "markdown",
      "metadata": {
        "_uuid": "4e83947e6876ffa63837c7e5ce1364a53cbfa499",
        "id": "cINOCtPVRV49"
      },
      "source": [
        "##### As expected, the CP feature has values from 0 to 3"
      ]
    },
    {
      "cell_type": "code",
      "execution_count": 22,
      "metadata": {
        "_uuid": "56d6ed2b3d8d20a61814980cd459502b452d14c1",
        "colab": {
          "base_uri": "https://localhost:8080/",
          "height": 296
        },
        "id": "TVUHxDIRRV49",
        "outputId": "05f20900-1778-4ef0-b0b8-0b7735c8ed2f"
      },
      "outputs": [
        {
          "data": {
            "text/plain": [
              "<AxesSubplot:xlabel='cp', ylabel='target'>"
            ]
          },
          "execution_count": 22,
          "metadata": {},
          "output_type": "execute_result"
        },
        {
          "data": {
            "image/png": "[encoded data removed]",
            "text/plain": [
              "<Figure size 432x288 with 1 Axes>"
            ]
          },
          "metadata": {
            "needs_background": "light"
          },
          "output_type": "display_data"
        }
      ],
      "source": [
        "sns.barplot(dataset[\"cp\"],y)"
      ]
    },
    {
      "cell_type": "markdown",
      "metadata": {
        "_uuid": "510c7c3a7386a7e308cc6052025dc806fad61534",
        "id": "aHxpoHYERV4-"
      },
      "source": [
        "##### We notice, that chest pain of '0', i.e. the ones with typical angina are much less likely to have heart problems"
      ]
    },
    {
      "cell_type": "markdown",
      "metadata": {
        "_uuid": "bb50bd1cedd31d29683e2411439368aa1390e7ef",
        "id": "IYjBCCx5RV4-"
      },
      "source": [
        "### Analysing the FBS feature"
      ]
    },
    {
      "cell_type": "code",
      "execution_count": 23,
      "metadata": {
        "_uuid": "55f9ca01da5294b5404f3eb14d202ae90e0ea1bf",
        "colab": {
          "base_uri": "https://localhost:8080/"
        },
        "id": "zAkPgKY-RV4-",
        "outputId": "2e8f4a86-d6e0-4791-9023-4e4e7952746b"
      },
      "outputs": [
        {
          "data": {
            "text/plain": [
              "count    303.000000\n",
              "mean       0.148515\n",
              "std        0.356198\n",
              "min        0.000000\n",
              "25%        0.000000\n",
              "50%        0.000000\n",
              "75%        0.000000\n",
              "max        1.000000\n",
              "Name: fbs, dtype: float64"
            ]
          },
          "execution_count": 23,
          "metadata": {},
          "output_type": "execute_result"
        }
      ],
      "source": [
        "dataset[\"fbs\"].describe()"
      ]
    },
    {
      "cell_type": "code",
      "execution_count": 24,
      "metadata": {
        "_uuid": "43d491d311a8b96a6a9cbecbeff87f577584cd3a",
        "colab": {
          "base_uri": "https://localhost:8080/"
        },
        "id": "8bfTebfvRV4-",
        "outputId": "a39d9b8c-2b26-485a-db1c-e74bfb44b3e7"
      },
      "outputs": [
        {
          "data": {
            "text/plain": [
              "array([1, 0], dtype=int64)"
            ]
          },
          "execution_count": 24,
          "metadata": {},
          "output_type": "execute_result"
        }
      ],
      "source": [
        "dataset[\"fbs\"].unique()"
      ]
    },
    {
      "cell_type": "code",
      "execution_count": 25,
      "metadata": {
        "_uuid": "90509dcee97df858115131c771e69347a044aafb",
        "colab": {
          "base_uri": "https://localhost:8080/",
          "height": 296
        },
        "id": "f_i5W2cURV4-",
        "outputId": "57900dab-3a98-4e24-fb62-2e2f035c4db2"
      },
      "outputs": [
        {
          "data": {
            "text/plain": [
              "<AxesSubplot:xlabel='fbs', ylabel='target'>"
            ]
          },
          "execution_count": 25,
          "metadata": {},
          "output_type": "execute_result"
        },
        {
          "data": {
            "image/png": "[encoded data removed]",
            "text/plain": [
              "<Figure size 432x288 with 1 Axes>"
            ]
          },
          "metadata": {
            "needs_background": "light"
          },
          "output_type": "display_data"
        }
      ],
      "source": [
        "sns.barplot(dataset[\"fbs\"],y)"
      ]
    },
    {
      "cell_type": "markdown",
      "metadata": {
        "_uuid": "7ec0ef582de18e2ddd06083d4caca7f760ba3700",
        "id": "oULbW5KKRV4-"
      },
      "source": [
        "##### Nothing extraordinary here"
      ]
    },
    {
      "cell_type": "markdown",
      "metadata": {
        "_uuid": "5a8d6384c879ed40eddefed03b16607bc02deecf",
        "id": "op2Lo_ToRV4-"
      },
      "source": [
        "### Analysing the restecg feature"
      ]
    },
    {
      "cell_type": "code",
      "execution_count": 26,
      "metadata": {
        "_uuid": "b12fcc535fe07bc58aa99e97ec9b4e0b01f30a8d",
        "colab": {
          "base_uri": "https://localhost:8080/"
        },
        "id": "7TL-XAz-RV4-",
        "outputId": "fc3f36f0-db41-447b-9c4a-6b256a12e953"
      },
      "outputs": [
        {
          "data": {
            "text/plain": [
              "array([0, 1, 2], dtype=int64)"
            ]
          },
          "execution_count": 26,
          "metadata": {},
          "output_type": "execute_result"
        }
      ],
      "source": [
        "dataset[\"restecg\"].unique()"
      ]
    },
    {
      "cell_type": "code",
      "execution_count": 27,
      "metadata": {
        "_uuid": "ccae9489c2b6e63adb87cef83d367f49ef08a133",
        "colab": {
          "base_uri": "https://localhost:8080/",
          "height": 296
        },
        "id": "uxIvrs5MRV4-",
        "outputId": "6d4cb66b-4695-4d77-c394-218862eb3bcd"
      },
      "outputs": [
        {
          "data": {
            "text/plain": [
              "<AxesSubplot:xlabel='restecg', ylabel='target'>"
            ]
          },
          "execution_count": 27,
          "metadata": {},
          "output_type": "execute_result"
        },
        {
          "data": {
            "image/png": "[encoded data removed]",
            "text/plain": [
              "<Figure size 432x288 with 1 Axes>"
            ]
          },
          "metadata": {
            "needs_background": "light"
          },
          "output_type": "display_data"
        }
      ],
      "source": [
        "sns.barplot(dataset[\"restecg\"],y)"
      ]
    },
    {
      "cell_type": "markdown",
      "metadata": {
        "_uuid": "84cf1d3ca8d3507765bbb3763834c3795380f1bf",
        "id": "zMkm2SRIRV4_"
      },
      "source": [
        "##### We realize that people with restecg '1' and '0' are much more likely to have a heart disease than with restecg '2'"
      ]
    },
    {
      "cell_type": "markdown",
      "metadata": {
        "_uuid": "efaf4d85a6837cf43bd5b33d4eaaf193bc6fedc1",
        "id": "llmC6mVURV4_"
      },
      "source": [
        "### Analysing the 'exang' feature"
      ]
    },
    {
      "cell_type": "code",
      "execution_count": 28,
      "metadata": {
        "_uuid": "53dd2985ea50aa6f9c9e5931050b4ef7b7aa609d",
        "colab": {
          "base_uri": "https://localhost:8080/"
        },
        "id": "A5zIWE2NRV4_",
        "outputId": "558f026a-323f-4974-8fcf-2606816a838d"
      },
      "outputs": [
        {
          "data": {
            "text/plain": [
              "array([0, 1], dtype=int64)"
            ]
          },
          "execution_count": 28,
          "metadata": {},
          "output_type": "execute_result"
        }
      ],
      "source": [
        "dataset[\"exang\"].unique()"
      ]
    },
    {
      "cell_type": "code",
      "execution_count": 29,
      "metadata": {
        "_uuid": "237a60a2a11dab86e50cafcee4ec47df752876a1",
        "colab": {
          "base_uri": "https://localhost:8080/",
          "height": 296
        },
        "id": "NkAHGs_HRV4_",
        "outputId": "085829b1-ae17-40b4-90a8-f0d92ecda49f"
      },
      "outputs": [
        {
          "data": {
            "text/plain": [
              "<AxesSubplot:xlabel='exang', ylabel='target'>"
            ]
          },
          "execution_count": 29,
          "metadata": {},
          "output_type": "execute_result"
        },
        {
          "data": {
            "image/png": "[encoded data removed]",
            "text/plain": [
              "<Figure size 432x288 with 1 Axes>"
            ]
          },
          "metadata": {
            "needs_background": "light"
          },
          "output_type": "display_data"
        }
      ],
      "source": [
        "sns.barplot(dataset[\"exang\"],y)"
      ]
    },
    {
      "cell_type": "markdown",
      "metadata": {
        "_uuid": "f442f08734344740ebc225af7a565bcb91962dca",
        "id": "UlWL4D7BRV4_"
      },
      "source": [
        "##### People with exang=1 i.e. Exercise induced angina are much less likely to have heart problems"
      ]
    },
    {
      "cell_type": "markdown",
      "metadata": {
        "_uuid": "4ce2d649ededc2126324cd07ce430b005697e288",
        "id": "280DgP_yRV4_"
      },
      "source": [
        "### Analysing the Slope feature"
      ]
    },
    {
      "cell_type": "code",
      "execution_count": 30,
      "metadata": {
        "_uuid": "e1e148d25967c36d2bb5fbfb802c70dae93f8a4f",
        "colab": {
          "base_uri": "https://localhost:8080/"
        },
        "id": "wh6Bx-2vRV4_",
        "outputId": "57d71725-b9f2-4b43-9e44-02e96e2b3ba0"
      },
      "outputs": [
        {
          "data": {
            "text/plain": [
              "array([0, 2, 1], dtype=int64)"
            ]
          },
          "execution_count": 30,
          "metadata": {},
          "output_type": "execute_result"
        }
      ],
      "source": [
        "dataset[\"slope\"].unique()"
      ]
    },
    {
      "cell_type": "code",
      "execution_count": 31,
      "metadata": {
        "_uuid": "beaa943c166b3c550fe357e6e937dbda46b707c9",
        "colab": {
          "base_uri": "https://localhost:8080/",
          "height": 296
        },
        "id": "Lh4JdF0hRV4_",
        "outputId": "3732d691-6ef0-4346-f573-74616e49e5a0"
      },
      "outputs": [
        {
          "data": {
            "text/plain": [
              "<AxesSubplot:xlabel='slope', ylabel='target'>"
            ]
          },
          "execution_count": 31,
          "metadata": {},
          "output_type": "execute_result"
        },
        {
          "data": {
            "image/png": "[encoded data removed]",
            "text/plain": [
              "<Figure size 432x288 with 1 Axes>"
            ]
          },
          "metadata": {
            "needs_background": "light"
          },
          "output_type": "display_data"
        }
      ],
      "source": [
        "sns.barplot(dataset[\"slope\"],y)"
      ]
    },
    {
      "cell_type": "markdown",
      "metadata": {
        "_uuid": "3141a4a203dd433dd7af6c02c1d0b44d048656a0",
        "id": "i8PSKwEPRV4_"
      },
      "source": [
        "##### We observe, that Slope '2' causes heart pain much more than Slope '0' and '1'"
      ]
    },
    {
      "cell_type": "markdown",
      "metadata": {
        "_uuid": "c0b39456274f1e0f402704714494161ddc55f16a",
        "id": "i7v56MmrRV4_"
      },
      "source": [
        "### Analysing the 'ca' feature"
      ]
    },
    {
      "cell_type": "code",
      "execution_count": 32,
      "metadata": {
        "_uuid": "50db41d7e9ebe645bc7c6fcbaf26194176c274db",
        "id": "Yket1jhaRV4_"
      },
      "outputs": [],
      "source": [
        "#number of major vessels (0-3) colored by flourosopy"
      ]
    },
    {
      "cell_type": "code",
      "execution_count": 33,
      "metadata": {
        "_uuid": "a3b7ed6661d24dc399963afbca1e08d79243b431",
        "colab": {
          "base_uri": "https://localhost:8080/"
        },
        "id": "hI-2eHV0RV5A",
        "outputId": "42798038-9abf-4d8a-ea72-de52af7d0881"
      },
      "outputs": [
        {
          "data": {
            "text/plain": [
              "array([0, 2, 1, 3, 4], dtype=int64)"
            ]
          },
          "execution_count": 33,
          "metadata": {},
          "output_type": "execute_result"
        }
      ],
      "source": [
        "dataset[\"ca\"].unique()"
      ]
    },
    {
      "cell_type": "code",
      "execution_count": 34,
      "metadata": {
        "_uuid": "f463859906d0287c68152ebe3cadc241e569802c",
        "colab": {
          "base_uri": "https://localhost:8080/",
          "height": 296
        },
        "id": "EnqyH-hjRV5A",
        "outputId": "531a46b7-04e6-4abe-ffcc-59d84f47b4d3"
      },
      "outputs": [
        {
          "data": {
            "text/plain": [
              "<AxesSubplot:xlabel='ca', ylabel='count'>"
            ]
          },
          "execution_count": 34,
          "metadata": {},
          "output_type": "execute_result"
        },
        {
          "data": {
            "image/png": "[encoded data removed]",
            "text/plain": [
              "<Figure size 432x288 with 1 Axes>"
            ]
          },
          "metadata": {
            "needs_background": "light"
          },
          "output_type": "display_data"
        }
      ],
      "source": [
        "sns.countplot(dataset[\"ca\"])"
      ]
    },
    {
      "cell_type": "code",
      "execution_count": 35,
      "metadata": {
        "_uuid": "81483318bc63c7434eeb75515483c329abcf15e3",
        "colab": {
          "base_uri": "https://localhost:8080/",
          "height": 296
        },
        "id": "6-4Fn2r2RV5A",
        "outputId": "5acbb426-0e71-4cba-9e66-80f7ad5f01cc"
      },
      "outputs": [
        {
          "data": {
            "text/plain": [
              "<AxesSubplot:xlabel='ca', ylabel='target'>"
            ]
          },
          "execution_count": 35,
          "metadata": {},
          "output_type": "execute_result"
        },
        {
          "data": {
            "image/png": "[encoded data removed]",
            "text/plain": [
              "<Figure size 432x288 with 1 Axes>"
            ]
          },
          "metadata": {
            "needs_background": "light"
          },
          "output_type": "display_data"
        }
      ],
      "source": [
        "sns.barplot(dataset[\"ca\"],y)"
      ]
    },
    {
      "cell_type": "markdown",
      "metadata": {
        "_uuid": "87671e11e19372848af999bb17d061f577eb08b5",
        "id": "NfH8fbyyRV5A"
      },
      "source": [
        "##### ca=4 has astonishingly large number of heart patients"
      ]
    },
    {
      "cell_type": "code",
      "execution_count": 36,
      "metadata": {
        "_uuid": "b4b057d99c7c3cdbe9e304a75b399f214f352aba",
        "id": "6DGOKQ7QRV5A"
      },
      "outputs": [],
      "source": [
        "### Analysing the 'thal' feature"
      ]
    },
    {
      "cell_type": "code",
      "execution_count": 37,
      "metadata": {
        "_uuid": "16eaf9a5f7433be2028369818aa54e2bf01e544e",
        "colab": {
          "base_uri": "https://localhost:8080/"
        },
        "id": "HK1C-JldRV5A",
        "outputId": "cf3de66c-76d0-4996-daeb-3dbf5a3d8983"
      },
      "outputs": [
        {
          "data": {
            "text/plain": [
              "array([1, 2, 3, 0], dtype=int64)"
            ]
          },
          "execution_count": 37,
          "metadata": {},
          "output_type": "execute_result"
        }
      ],
      "source": [
        "dataset[\"thal\"].unique()"
      ]
    },
    {
      "cell_type": "code",
      "execution_count": 38,
      "metadata": {
        "_uuid": "08947d9c4b05d68b2fe5ae70e33566063c44f8d4",
        "colab": {
          "base_uri": "https://localhost:8080/",
          "height": 296
        },
        "id": "3I4OeB0MRV5A",
        "outputId": "02624aff-6311-4eb8-bb71-fbebcc34353a"
      },
      "outputs": [
        {
          "data": {
            "text/plain": [
              "<AxesSubplot:xlabel='thal', ylabel='target'>"
            ]
          },
          "execution_count": 38,
          "metadata": {},
          "output_type": "execute_result"
        },
        {
          "data": {
            "image/png": "[encoded data removed]",
            "text/plain": [
              "<Figure size 432x288 with 1 Axes>"
            ]
          },
          "metadata": {
            "needs_background": "light"
          },
          "output_type": "display_data"
        }
      ],
      "source": [
        "sns.barplot(dataset[\"thal\"],y)"
      ]
    },
    {
      "cell_type": "code",
      "execution_count": 39,
      "metadata": {
        "_uuid": "dc84bb1643cbed20e8ac5980db59ffd54d5b581c",
        "colab": {
          "base_uri": "https://localhost:8080/",
          "height": 296
        },
        "id": "Q_fZwW-xRV5A",
        "outputId": "1c51ef54-7338-4061-8395-3398e15974f5"
      },
      "outputs": [
        {
          "data": {
            "text/plain": [
              "<AxesSubplot:xlabel='thal', ylabel='Density'>"
            ]
          },
          "execution_count": 39,
          "metadata": {},
          "output_type": "execute_result"
        },
        {
          "data": {
            "image/png": "[encoded data removed]",
            "text/plain": [
              "<Figure size 432x288 with 1 Axes>"
            ]
          },
          "metadata": {
            "needs_background": "light"
          },
          "output_type": "display_data"
        }
      ],
      "source": [
        "sns.distplot(dataset[\"thal\"])"
      ]
    },
    {
      "cell_type": "markdown",
      "metadata": {
        "_uuid": "d1c95f2180e264978c85703ece34898dab4d522b",
        "id": "v9hhs4QTRV5A"
      },
      "source": [
        "## IV. Train Test split"
      ]
    },
    {
      "cell_type": "code",
      "execution_count": 40,
      "metadata": {
        "_uuid": "829fcda5b63e1b9f7ecb7762e8ca617166533aca",
        "id": "LoMPxcO-RV5A"
      },
      "outputs": [],
      "source": [
        "from sklearn.model_selection import train_test_split\n",
        "\n",
        "predictors = dataset.drop(\"target\",axis=1)\n",
        "target = dataset[\"target\"]\n",
        "\n",
        "X_train,X_test,Y_train,Y_test = train_test_split(predictors,target,test_size=0.20,random_state=0)"
      ]
    },
    {
      "cell_type": "code",
      "execution_count": 41,
      "metadata": {
        "_uuid": "7a74842015c2f193d16caa4fa25e2c4cbf1940f8",
        "colab": {
          "base_uri": "https://localhost:8080/"
        },
        "id": "1GOhWYAfRV5B",
        "outputId": "78a5de2d-3004-4ff1-8e50-138d70837b41"
      },
      "outputs": [
        {
          "data": {
            "text/plain": [
              "(242, 13)"
            ]
          },
          "execution_count": 41,
          "metadata": {},
          "output_type": "execute_result"
        }
      ],
      "source": [
        "X_train.shape"
      ]
    },
    {
      "cell_type": "code",
      "execution_count": 42,
      "metadata": {
        "_uuid": "1f777652df4521deb877dac4d5d635d8cd35b279",
        "colab": {
          "base_uri": "https://localhost:8080/"
        },
        "id": "QQ7mcO0rRV5B",
        "outputId": "634efeca-7d78-45e6-a83c-aba2b40d0d61"
      },
      "outputs": [
        {
          "data": {
            "text/plain": [
              "(61, 13)"
            ]
          },
          "execution_count": 42,
          "metadata": {},
          "output_type": "execute_result"
        }
      ],
      "source": [
        "X_test.shape"
      ]
    },
    {
      "cell_type": "code",
      "execution_count": 43,
      "metadata": {
        "_uuid": "028c968a076840657faf7dbc3bfee9fe7b5ca45a",
        "colab": {
          "base_uri": "https://localhost:8080/"
        },
        "id": "9_lM6rRCRV5B",
        "outputId": "1ea76305-ef5e-4d2a-82fb-5f8f3e6a3f29"
      },
      "outputs": [
        {
          "data": {
            "text/plain": [
              "(242,)"
            ]
          },
          "execution_count": 43,
          "metadata": {},
          "output_type": "execute_result"
        }
      ],
      "source": [
        "Y_train.shape"
      ]
    },
    {
      "cell_type": "code",
      "execution_count": 44,
      "metadata": {
        "_uuid": "eb6857dfc18da52dae38bec95d20106f39136e61",
        "colab": {
          "base_uri": "https://localhost:8080/"
        },
        "id": "cgKCfw_FRV5B",
        "outputId": "206c7272-53a9-4a4c-9854-f93b81a3c290"
      },
      "outputs": [
        {
          "data": {
            "text/plain": [
              "(61,)"
            ]
          },
          "execution_count": 44,
          "metadata": {},
          "output_type": "execute_result"
        }
      ],
      "source": [
        "Y_test.shape"
      ]
    },
    {
      "cell_type": "markdown",
      "metadata": {
        "_uuid": "3b4f28488a92917f26e9876c1880295ec9c077ed",
        "id": "FBJA-qgRRV5B"
      },
      "source": [
        "## V. Model Fitting"
      ]
    },
    {
      "cell_type": "code",
      "execution_count": 45,
      "metadata": {
        "_uuid": "fe363c1be8335a48a4444660db5fa6bd0a24b71a",
        "id": "CFoMJvjZRV5B"
      },
      "outputs": [],
      "source": [
        "from sklearn.metrics import accuracy_score"
      ]
    },
    {
      "cell_type": "markdown",
      "metadata": {
        "_uuid": "afa6b322cbc225f3353bd295aea24fe5fbbb78fe",
        "id": "OyrV3GMyRV5B"
      },
      "source": [
        "### Logistic Regression"
      ]
    },
    {
      "cell_type": "code",
      "execution_count": 46,
      "metadata": {
        "_uuid": "9aea2f597203ccf38cd0d67ae58bff6e163dea1c",
        "id": "qTzO2bdgRV5B"
      },
      "outputs": [],
      "source": [
        "from sklearn.linear_model import LogisticRegression\n",
        "\n",
        "lr = LogisticRegression()\n",
        "\n",
        "lr.fit(X_train,Y_train)\n",
        "\n",
        "Y_pred_lr = lr.predict(X_test)"
      ]
    },
    {
      "cell_type": "code",
      "execution_count": 47,
      "metadata": {
        "_uuid": "58fb833d1c74355ebdafe926968632942f377421",
        "colab": {
          "base_uri": "https://localhost:8080/"
        },
        "id": "HdojLwUMRV5B",
        "outputId": "f67d3f5d-5ab0-44b1-f411-815421f34520"
      },
      "outputs": [
        {
          "data": {
            "text/plain": [
              "(61,)"
            ]
          },
          "execution_count": 47,
          "metadata": {},
          "output_type": "execute_result"
        }
      ],
      "source": [
        "Y_pred_lr.shape"
      ]
    },
    {
      "cell_type": "code",
      "execution_count": 48,
      "metadata": {
        "_uuid": "ee4cba838316adf863f8daf131d36a970d36b839",
        "colab": {
          "base_uri": "https://localhost:8080/"
        },
        "id": "TvRbRGKZRV5B",
        "outputId": "7ef41e7e-7a64-4a30-b80f-a97ce0321da1"
      },
      "outputs": [
        {
          "name": "stdout",
          "output_type": "stream",
          "text": [
            "The accuracy score achieved using Logistic Regression is: 85.25 %\n"
          ]
        }
      ],
      "source": [
        "score_lr = round(accuracy_score(Y_pred_lr,Y_test)*100,2)\n",
        "\n",
        "print(\"The accuracy score achieved using Logistic Regression is: \"+str(score_lr)+\" %\")"
      ]
    },
    {
      "cell_type": "markdown",
      "metadata": {
        "_uuid": "4f92fceb9584ae03d3ab370ee11899cb287be690",
        "id": "oTZDxKfDRV5C"
      },
      "source": [
        "### Naive Bayes"
      ]
    },
    {
      "cell_type": "code",
      "execution_count": 49,
      "metadata": {
        "_uuid": "ffcdab99b4108902547f0179a242a9757078dc68",
        "id": "HtPdLBegRV5C"
      },
      "outputs": [],
      "source": [
        "from sklearn.naive_bayes import GaussianNB\n",
        "\n",
        "nb = GaussianNB()\n",
        "\n",
        "nb.fit(X_train,Y_train)\n",
        "\n",
        "Y_pred_nb = nb.predict(X_test)"
      ]
    },
    {
      "cell_type": "code",
      "execution_count": 50,
      "metadata": {
        "_uuid": "9109059d06e4c92494451b3cdab0bbb5a1816072",
        "colab": {
          "base_uri": "https://localhost:8080/"
        },
        "id": "KJMqlAMURV5C",
        "outputId": "c23e2be7-ed14-4b25-98e5-6131c3d6f135"
      },
      "outputs": [
        {
          "data": {
            "text/plain": [
              "(61,)"
            ]
          },
          "execution_count": 50,
          "metadata": {},
          "output_type": "execute_result"
        }
      ],
      "source": [
        "Y_pred_nb.shape"
      ]
    },
    {
      "cell_type": "code",
      "execution_count": 51,
      "metadata": {
        "_uuid": "e8f8f55db061ada0b669ffa46e9ecc745fcda1ae",
        "colab": {
          "base_uri": "https://localhost:8080/"
        },
        "id": "YbCXy-MDRV5C",
        "outputId": "af4b3b98-1686-4dd9-9d90-d927d8e829d7"
      },
      "outputs": [
        {
          "name": "stdout",
          "output_type": "stream",
          "text": [
            "The accuracy score achieved using Naive Bayes is: 85.25 %\n"
          ]
        }
      ],
      "source": [
        "score_nb = round(accuracy_score(Y_pred_nb,Y_test)*100,2)\n",
        "\n",
        "print(\"The accuracy score achieved using Naive Bayes is: \"+str(score_nb)+\" %\")"
      ]
    },
    {
      "cell_type": "markdown",
      "metadata": {
        "_uuid": "2af8b010893284bae0d6cccf66ccfda646e7ca58",
        "id": "aEEM-WMtRV5C"
      },
      "source": [
        "### SVM"
      ]
    },
    {
      "cell_type": "code",
      "execution_count": 52,
      "metadata": {
        "_uuid": "f1936ece7b76b67e552758a4c80e9421bffe0bc2",
        "id": "gNcoUnumRV5C"
      },
      "outputs": [],
      "source": [
        "from sklearn import svm\n",
        "\n",
        "sv = svm.SVC(kernel='linear')\n",
        "\n",
        "sv.fit(X_train, Y_train)\n",
        "\n",
        "Y_pred_svm = sv.predict(X_test)"
      ]
    },
    {
      "cell_type": "code",
      "execution_count": 53,
      "metadata": {
        "_uuid": "36f60f104264d44760705b9c802504f426e15592",
        "colab": {
          "base_uri": "https://localhost:8080/"
        },
        "id": "DnhKyP7BRV5C",
        "outputId": "22bb3b6c-a68b-4e0f-feb8-ec4d8911b6f6"
      },
      "outputs": [
        {
          "data": {
            "text/plain": [
              "(61,)"
            ]
          },
          "execution_count": 53,
          "metadata": {},
          "output_type": "execute_result"
        }
      ],
      "source": [
        "Y_pred_svm.shape"
      ]
    },
    {
      "cell_type": "code",
      "execution_count": 54,
      "metadata": {
        "_uuid": "f5a73bca6721f42b3983c328fd475390ba9bc4d3",
        "colab": {
          "base_uri": "https://localhost:8080/"
        },
        "id": "Cd9xwj-SRV5C",
        "outputId": "61136bad-d716-456c-fc30-3efd0982c0fa"
      },
      "outputs": [
        {
          "name": "stdout",
          "output_type": "stream",
          "text": [
            "The accuracy score achieved using Linear SVM is: 81.97 %\n"
          ]
        }
      ],
      "source": [
        "score_svm = round(accuracy_score(Y_pred_svm,Y_test)*100,2)\n",
        "\n",
        "print(\"The accuracy score achieved using Linear SVM is: \"+str(score_svm)+\" %\")"
      ]
    },
    {
      "cell_type": "markdown",
      "metadata": {
        "_uuid": "4e26d165b57f3f7882570964f1c2dc4a548404de",
        "id": "zziAbTQnRV5C"
      },
      "source": [
        "### K Nearest Neighbors"
      ]
    },
    {
      "cell_type": "code",
      "execution_count": 55,
      "metadata": {
        "_uuid": "286352867c53d5fb7dac2fc9bf4b2ac58a466ad0",
        "id": "H2oubv2eRV5C"
      },
      "outputs": [],
      "source": [
        "from sklearn.neighbors import KNeighborsClassifier\n",
        "\n",
        "knn = KNeighborsClassifier(n_neighbors=7)\n",
        "knn.fit(X_train,Y_train)\n",
        "Y_pred_knn=knn.predict(X_test)"
      ]
    },
    {
      "cell_type": "code",
      "execution_count": 56,
      "metadata": {
        "_uuid": "bccb7c1fcec36dd2eb7eb222f49604029adec2b4",
        "colab": {
          "base_uri": "https://localhost:8080/"
        },
        "id": "ESwzEEvXRV5C",
        "outputId": "71d2e7ad-ff63-4c69-a719-194a2bf279f9"
      },
      "outputs": [
        {
          "data": {
            "text/plain": [
              "(61,)"
            ]
          },
          "execution_count": 56,
          "metadata": {},
          "output_type": "execute_result"
        }
      ],
      "source": [
        "Y_pred_knn.shape"
      ]
    },
    {
      "cell_type": "code",
      "execution_count": 57,
      "metadata": {
        "_uuid": "dda4e8f8f18f96557cdd38cee177de0456db5f45",
        "colab": {
          "base_uri": "https://localhost:8080/"
        },
        "id": "pY4S93DYRV5D",
        "outputId": "77f77f02-89aa-446d-a93a-cbbcfade966a"
      },
      "outputs": [
        {
          "name": "stdout",
          "output_type": "stream",
          "text": [
            "The accuracy score achieved using KNN is: 67.21 %\n"
          ]
        }
      ],
      "source": [
        "score_knn = round(accuracy_score(Y_pred_knn,Y_test)*100,2)\n",
        "\n",
        "print(\"The accuracy score achieved using KNN is: \"+str(score_knn)+\" %\")"
      ]
    },
    {
      "cell_type": "markdown",
      "metadata": {
        "_uuid": "abb767170c662e4d9a8b240fd0fd7286ffb0b67f",
        "id": "cr-obqddRV5D"
      },
      "source": [
        "### Decision Tree"
      ]
    },
    {
      "cell_type": "code",
      "execution_count": 58,
      "metadata": {
        "_uuid": "8c141316764dce80103d1879c9b17d853702a746",
        "id": "1Aua_uOBRV5D"
      },
      "outputs": [],
      "source": [
        "from sklearn.tree import DecisionTreeClassifier\n",
        "\n",
        "max_accuracy = 0\n",
        "\n",
        "\n",
        "for x in range(200):\n",
        "    dt = DecisionTreeClassifier(random_state=x)\n",
        "    dt.fit(X_train,Y_train)\n",
        "    Y_pred_dt = dt.predict(X_test)\n",
        "    current_accuracy = round(accuracy_score(Y_pred_dt,Y_test)*100,2)\n",
        "    if(current_accuracy>max_accuracy):\n",
        "        max_accuracy = current_accuracy\n",
        "        best_x = x\n",
        "        \n",
        "#print(max_accuracy)\n",
        "#print(best_x)\n",
        "\n",
        "\n",
        "dt = DecisionTreeClassifier(random_state=best_x)\n",
        "dt.fit(X_train,Y_train)\n",
        "Y_pred_dt = dt.predict(X_test)"
      ]
    },
    {
      "cell_type": "code",
      "execution_count": 59,
      "metadata": {
        "_uuid": "8de0bd2d57abd24d3a97a5b020a24439eb106f2b",
        "colab": {
          "base_uri": "https://localhost:8080/"
        },
        "id": "UMDqGeoeRV5D",
        "outputId": "d9aa83c0-1bfe-47c1-938c-8c175320cc2d"
      },
      "outputs": [
        {
          "name": "stdout",
          "output_type": "stream",
          "text": [
            "(61,)\n"
          ]
        }
      ],
      "source": [
        "print(Y_pred_dt.shape)"
      ]
    },
    {
      "cell_type": "code",
      "execution_count": 60,
      "metadata": {
        "_uuid": "52ab93482d3b53824e9bc2b3e4114c57253e0c5b",
        "colab": {
          "base_uri": "https://localhost:8080/"
        },
        "id": "8XHLUZw2RV5D",
        "outputId": "512a3fa7-a5e6-4ab6-adfe-7c2efc338cd5"
      },
      "outputs": [
        {
          "name": "stdout",
          "output_type": "stream",
          "text": [
            "The accuracy score achieved using Decision Tree is: 81.97 %\n"
          ]
        }
      ],
      "source": [
        "score_dt = round(accuracy_score(Y_pred_dt,Y_test)*100,2)\n",
        "\n",
        "print(\"The accuracy score achieved using Decision Tree is: \"+str(score_dt)+\" %\")"
      ]
    },
    {
      "cell_type": "markdown",
      "metadata": {
        "_uuid": "9e663d26efb00a434751f06ad0292949eff6c358",
        "id": "PKE0EULDRV5D"
      },
      "source": [
        "### Random Forest"
      ]
    },
    {
      "cell_type": "code",
      "execution_count": 61,
      "metadata": {
        "_uuid": "8284f5222cf90be1bcd37887c45f91cf22ed1193",
        "id": "NPdBvZUERV5D"
      },
      "outputs": [],
      "source": [
        "from sklearn.ensemble import RandomForestClassifier\n",
        "\n",
        "max_accuracy = 0\n",
        "\n",
        "\n",
        "for x in range(2000):\n",
        "    rf = RandomForestClassifier(random_state=x)\n",
        "    rf.fit(X_train,Y_train)\n",
        "    Y_pred_rf = rf.predict(X_test)\n",
        "    current_accuracy = round(accuracy_score(Y_pred_rf,Y_test)*100,2)\n",
        "    if(current_accuracy>max_accuracy):\n",
        "        max_accuracy = current_accuracy\n",
        "        best_x = x\n",
        "        \n",
        "#print(max_accuracy)\n",
        "#print(best_x)\n",
        "\n",
        "rf = RandomForestClassifier(random_state=best_x)\n",
        "rf.fit(X_train,Y_train)\n",
        "Y_pred_rf = rf.predict(X_test)"
      ]
    },
    {
      "cell_type": "code",
      "execution_count": 62,
      "metadata": {
        "_uuid": "edc8e1cbb57be0aa9e9ad5f4997212d53a9a4c99",
        "colab": {
          "base_uri": "https://localhost:8080/"
        },
        "id": "5UbT5jHvRV5D",
        "outputId": "d94f9951-acf2-4bfe-dba3-d874a5a6b654"
      },
      "outputs": [
        {
          "data": {
            "text/plain": [
              "(61,)"
            ]
          },
          "execution_count": 62,
          "metadata": {},
          "output_type": "execute_result"
        }
      ],
      "source": [
        "Y_pred_rf.shape"
      ]
    },
    {
      "cell_type": "code",
      "execution_count": 63,
      "metadata": {
        "_uuid": "965228f30e05e07e7960a3375dc7dc85b49caed7",
        "colab": {
          "base_uri": "https://localhost:8080/"
        },
        "id": "Q8pfJiqJRV5E",
        "outputId": "b90ecefd-e5e2-458d-8dff-e4581c90c247"
      },
      "outputs": [
        {
          "name": "stdout",
          "output_type": "stream",
          "text": [
            "The accuracy score achieved using Decision Tree is: 90.16 %\n"
          ]
        }
      ],
      "source": [
        "score_rf = round(accuracy_score(Y_pred_rf,Y_test)*100,2)\n",
        "\n",
        "print(\"The accuracy score achieved using Decision Tree is: \"+str(score_rf)+\" %\")"
      ]
    },
    {
      "cell_type": "markdown",
      "metadata": {
        "_uuid": "6a0fc13a6c2fccd6a725a7691cfe95d74348a8ae",
        "id": "S31N1-YsRV5E"
      },
      "source": [
        "### XGBoost"
      ]
    },
    {
      "cell_type": "code",
      "execution_count": 64,
      "metadata": {
        "_uuid": "5a437f3c0e190887e2192ecb1844eaa6eb1d34a7",
        "id": "8ipTvT1ERV5E"
      },
      "outputs": [
        {
          "name": "stdout",
          "output_type": "stream",
          "text": [
            "[10:46:42] WARNING: C:/Users/Administrator/workspace/xgboost-win64_release_1.5.1/src/learner.cc:1115: Starting in XGBoost 1.3.0, the default evaluation metric used with the objective 'binary:logistic' was changed from 'error' to 'logloss'. Explicitly set eval_metric if you'd like to restore the old behavior.\n"
          ]
        }
      ],
      "source": [
        "import xgboost as xgb\n",
        "\n",
        "xgb_model = xgb.XGBClassifier(objective=\"binary:logistic\", random_state=42)\n",
        "xgb_model.fit(X_train, Y_train)\n",
        "\n",
        "Y_pred_xgb = xgb_model.predict(X_test)"
      ]
    },
    {
      "cell_type": "code",
      "execution_count": 65,
      "metadata": {
        "_uuid": "168d52cd705f2abb6763107328c984e4252c618e",
        "colab": {
          "base_uri": "https://localhost:8080/"
        },
        "id": "bGoyNmjhRV5E",
        "outputId": "5f13fc63-1bfa-4b2c-fc44-9aab69d68565"
      },
      "outputs": [
        {
          "data": {
            "text/plain": [
              "(61,)"
            ]
          },
          "execution_count": 65,
          "metadata": {},
          "output_type": "execute_result"
        }
      ],
      "source": [
        "Y_pred_xgb.shape"
      ]
    },
    {
      "cell_type": "code",
      "execution_count": 66,
      "metadata": {
        "_uuid": "319c4f0d2e62b03c95a48df0ecc33b15e7fa7f39",
        "colab": {
          "base_uri": "https://localhost:8080/"
        },
        "id": "Nul7KurzRV5E",
        "outputId": "42c2757d-9351-47a7-c576-5bc778a67c0c"
      },
      "outputs": [
        {
          "name": "stdout",
          "output_type": "stream",
          "text": [
            "The accuracy score achieved using XGBoost is: 78.69 %\n"
          ]
        }
      ],
      "source": [
        "score_xgb = round(accuracy_score(Y_pred_xgb,Y_test)*100,2)\n",
        "\n",
        "print(\"The accuracy score achieved using XGBoost is: \"+str(score_xgb)+\" %\")"
      ]
    },
    {
      "cell_type": "markdown",
      "metadata": {
        "_uuid": "e224ab23f275a3a56cdba6a9ccfddbd6a4d3b4fd",
        "id": "zqpur0ZxRV5E"
      },
      "source": [
        "### Neural Network"
      ]
    },
    {
      "cell_type": "code",
      "execution_count": 67,
      "metadata": {
        "_uuid": "727b391ad6d86468a96e93dc645ade6e2da4048e",
        "id": "LT_sKKw1RV5E"
      },
      "outputs": [],
      "source": [
        "from keras.models import Sequential\n",
        "from keras.layers import Dense"
      ]
    },
    {
      "cell_type": "code",
      "execution_count": 68,
      "metadata": {
        "_uuid": "650f1baa7db466923626c707408319fa29f22d10",
        "id": "Z5FomlcFRV5E"
      },
      "outputs": [],
      "source": [
        "# https://stats.stackexchange.com/a/136542 helped a lot in avoiding overfitting\n",
        "\n",
        "model = Sequential()\n",
        "model.add(Dense(11,activation='relu',input_dim=13))\n",
        "model.add(Dense(1,activation='sigmoid'))\n",
        "\n",
        "model.compile(loss='binary_crossentropy',optimizer='adam',metrics=['accuracy'])"
      ]
    },
    {
      "cell_type": "code",
      "execution_count": 69,
      "metadata": {
        "_uuid": "dde4e50b5c4c24c73b03133fc7c90bf663fd6d82",
        "colab": {
          "base_uri": "https://localhost:8080/"
        },
        "id": "56ZzaN7pRV5E",
        "outputId": "6c89ab3b-703c-483b-9c5a-0039adc807a4"
      },
      "outputs": [
        {
          "name": "stdout",
          "output_type": "stream",
          "text": [
            "Epoch 1/300\n",
            "8/8 [==============================] - 0s 713us/step - loss: 25.7347 - accuracy: 0.5413\n",
            "Epoch 2/300\n",
            "8/8 [==============================] - 0s 712us/step - loss: 20.5745 - accuracy: 0.5413\n",
            "Epoch 3/300\n",
            "8/8 [==============================] - 0s 570us/step - loss: 15.5376 - accuracy: 0.5413\n",
            "Epoch 4/300\n",
            "8/8 [==============================] - 0s 712us/step - loss: 10.3697 - accuracy: 0.5372\n",
            "Epoch 5/300\n",
            "8/8 [==============================] - 0s 570us/step - loss: 5.8257 - accuracy: 0.5537\n",
            "Epoch 6/300\n",
            "8/8 [==============================] - 0s 570us/step - loss: 3.2046 - accuracy: 0.5950\n",
            "Epoch 7/300\n",
            "8/8 [==============================] - 0s 712us/step - loss: 3.0073 - accuracy: 0.5744\n",
            "Epoch 8/300\n",
            "8/8 [==============================] - 0s 570us/step - loss: 3.1135 - accuracy: 0.5455\n",
            "Epoch 9/300\n",
            "8/8 [==============================] - 0s 570us/step - loss: 2.7812 - accuracy: 0.5744\n",
            "Epoch 10/300\n",
            "8/8 [==============================] - 0s 712us/step - loss: 2.7626 - accuracy: 0.5950\n",
            "Epoch 11/300\n",
            "8/8 [==============================] - 0s 712us/step - loss: 2.6905 - accuracy: 0.6033\n",
            "Epoch 12/300\n",
            "8/8 [==============================] - 0s 712us/step - loss: 2.5893 - accuracy: 0.5826\n",
            "Epoch 13/300\n",
            "8/8 [==============================] - 0s 569us/step - loss: 2.5319 - accuracy: 0.5868\n",
            "Epoch 14/300\n",
            "8/8 [==============================] - 0s 712us/step - loss: 2.4624 - accuracy: 0.5909\n",
            "Epoch 15/300\n",
            "8/8 [==============================] - 0s 712us/step - loss: 2.3884 - accuracy: 0.5950\n",
            "Epoch 16/300\n",
            "8/8 [==============================] - 0s 712us/step - loss: 2.2915 - accuracy: 0.5909\n",
            "Epoch 17/300\n",
            "8/8 [==============================] - 0s 571us/step - loss: 2.2398 - accuracy: 0.5992\n",
            "Epoch 18/300\n",
            "8/8 [==============================] - 0s 713us/step - loss: 2.1581 - accuracy: 0.6074\n",
            "Epoch 19/300\n",
            "8/8 [==============================] - 0s 712us/step - loss: 2.0716 - accuracy: 0.5909\n",
            "Epoch 20/300\n",
            "8/8 [==============================] - 0s 570us/step - loss: 1.9869 - accuracy: 0.5868\n",
            "Epoch 21/300\n",
            "8/8 [==============================] - 0s 712us/step - loss: 1.9162 - accuracy: 0.6033\n",
            "Epoch 22/300\n",
            "8/8 [==============================] - 0s 712us/step - loss: 1.8425 - accuracy: 0.5909\n",
            "Epoch 23/300\n",
            "8/8 [==============================] - 0s 570us/step - loss: 1.7653 - accuracy: 0.5909\n",
            "Epoch 24/300\n",
            "8/8 [==============================] - 0s 712us/step - loss: 1.6840 - accuracy: 0.5992\n",
            "Epoch 25/300\n",
            "8/8 [==============================] - 0s 713us/step - loss: 1.6104 - accuracy: 0.5950\n",
            "Epoch 26/300\n",
            "8/8 [==============================] - 0s 712us/step - loss: 1.5329 - accuracy: 0.5950\n",
            "Epoch 27/300\n",
            "8/8 [==============================] - 0s 712us/step - loss: 1.4508 - accuracy: 0.5950\n",
            "Epoch 28/300\n",
            "8/8 [==============================] - 0s 712us/step - loss: 1.3731 - accuracy: 0.5909\n",
            "Epoch 29/300\n",
            "8/8 [==============================] - 0s 570us/step - loss: 1.3196 - accuracy: 0.6198\n",
            "Epoch 30/300\n",
            "8/8 [==============================] - 0s 570us/step - loss: 1.2172 - accuracy: 0.6116\n",
            "Epoch 31/300\n",
            "8/8 [==============================] - 0s 712us/step - loss: 1.1837 - accuracy: 0.5950\n",
            "Epoch 32/300\n",
            "8/8 [==============================] - 0s 712us/step - loss: 1.1215 - accuracy: 0.6198\n",
            "Epoch 33/300\n",
            "8/8 [==============================] - 0s 997us/step - loss: 1.0565 - accuracy: 0.6033\n",
            "Epoch 34/300\n",
            "8/8 [==============================] - 0s 1ms/step - loss: 0.9729 - accuracy: 0.6033\n",
            "Epoch 35/300\n",
            "8/8 [==============================] - 0s 854us/step - loss: 0.9176 - accuracy: 0.6116\n",
            "Epoch 36/300\n",
            "8/8 [==============================] - 0s 712us/step - loss: 0.8676 - accuracy: 0.6198\n",
            "Epoch 37/300\n",
            "8/8 [==============================] - 0s 712us/step - loss: 0.8192 - accuracy: 0.6364\n",
            "Epoch 38/300\n",
            "8/8 [==============================] - 0s 570us/step - loss: 0.7874 - accuracy: 0.6322\n",
            "Epoch 39/300\n",
            "8/8 [==============================] - 0s 712us/step - loss: 0.7464 - accuracy: 0.6612\n",
            "Epoch 40/300\n",
            "8/8 [==============================] - 0s 712us/step - loss: 0.7262 - accuracy: 0.6612\n",
            "Epoch 41/300\n",
            "8/8 [==============================] - 0s 712us/step - loss: 0.6993 - accuracy: 0.6570\n",
            "Epoch 42/300\n",
            "8/8 [==============================] - 0s 570us/step - loss: 0.6527 - accuracy: 0.6736\n",
            "Epoch 43/300\n",
            "8/8 [==============================] - 0s 712us/step - loss: 0.6375 - accuracy: 0.6777\n",
            "Epoch 44/300\n",
            "8/8 [==============================] - 0s 712us/step - loss: 0.6174 - accuracy: 0.7025\n",
            "Epoch 45/300\n",
            "8/8 [==============================] - 0s 712us/step - loss: 0.6067 - accuracy: 0.6983\n",
            "Epoch 46/300\n",
            "8/8 [==============================] - 0s 712us/step - loss: 0.5876 - accuracy: 0.7107\n",
            "Epoch 47/300\n",
            "8/8 [==============================] - 0s 570us/step - loss: 0.5866 - accuracy: 0.7190\n",
            "Epoch 48/300\n",
            "8/8 [==============================] - 0s 712us/step - loss: 0.5885 - accuracy: 0.7107\n",
            "Epoch 49/300\n",
            "8/8 [==============================] - 0s 712us/step - loss: 0.5634 - accuracy: 0.7273\n",
            "Epoch 50/300\n",
            "8/8 [==============================] - 0s 712us/step - loss: 0.5652 - accuracy: 0.7273\n",
            "Epoch 51/300\n",
            "8/8 [==============================] - 0s 712us/step - loss: 0.5520 - accuracy: 0.7355\n",
            "Epoch 52/300\n",
            "8/8 [==============================] - 0s 570us/step - loss: 0.5443 - accuracy: 0.7355\n",
            "Epoch 53/300\n",
            "8/8 [==============================] - 0s 712us/step - loss: 0.5442 - accuracy: 0.7273\n",
            "Epoch 54/300\n",
            "8/8 [==============================] - 0s 712us/step - loss: 0.5279 - accuracy: 0.7438\n",
            "Epoch 55/300\n",
            "8/8 [==============================] - 0s 712us/step - loss: 0.5327 - accuracy: 0.7397\n",
            "Epoch 56/300\n",
            "8/8 [==============================] - 0s 570us/step - loss: 0.5265 - accuracy: 0.7562\n",
            "Epoch 57/300\n",
            "8/8 [==============================] - 0s 712us/step - loss: 0.5525 - accuracy: 0.7273\n",
            "Epoch 58/300\n",
            "8/8 [==============================] - 0s 569us/step - loss: 0.5460 - accuracy: 0.7355\n",
            "Epoch 59/300\n",
            "8/8 [==============================] - 0s 712us/step - loss: 0.5216 - accuracy: 0.7521\n",
            "Epoch 60/300\n",
            "8/8 [==============================] - 0s 570us/step - loss: 0.5039 - accuracy: 0.7521\n",
            "Epoch 61/300\n",
            "8/8 [==============================] - 0s 712us/step - loss: 0.4992 - accuracy: 0.7645\n",
            "Epoch 62/300\n",
            "8/8 [==============================] - 0s 571us/step - loss: 0.5004 - accuracy: 0.7521\n",
            "Epoch 63/300\n",
            "8/8 [==============================] - 0s 712us/step - loss: 0.5210 - accuracy: 0.7314\n",
            "Epoch 64/300\n",
            "8/8 [==============================] - 0s 712us/step - loss: 0.5002 - accuracy: 0.7438\n",
            "Epoch 65/300\n",
            "8/8 [==============================] - 0s 571us/step - loss: 0.4923 - accuracy: 0.7727\n",
            "Epoch 66/300\n",
            "8/8 [==============================] - 0s 712us/step - loss: 0.4798 - accuracy: 0.7851\n",
            "Epoch 67/300\n",
            "8/8 [==============================] - 0s 712us/step - loss: 0.4823 - accuracy: 0.7603\n",
            "Epoch 68/300\n",
            "8/8 [==============================] - 0s 712us/step - loss: 0.4851 - accuracy: 0.7645\n",
            "Epoch 69/300\n",
            "8/8 [==============================] - 0s 855us/step - loss: 0.4782 - accuracy: 0.7562\n",
            "Epoch 70/300\n",
            "8/8 [==============================] - 0s 712us/step - loss: 0.4843 - accuracy: 0.7686\n",
            "Epoch 71/300\n",
            "8/8 [==============================] - 0s 570us/step - loss: 0.4756 - accuracy: 0.7603\n",
            "Epoch 72/300\n",
            "8/8 [==============================] - 0s 712us/step - loss: 0.4649 - accuracy: 0.7769\n",
            "Epoch 73/300\n",
            "8/8 [==============================] - 0s 570us/step - loss: 0.4667 - accuracy: 0.7851\n",
            "Epoch 74/300\n",
            "8/8 [==============================] - 0s 570us/step - loss: 0.4644 - accuracy: 0.7521\n",
            "Epoch 75/300\n",
            "8/8 [==============================] - 0s 712us/step - loss: 0.4608 - accuracy: 0.7934\n",
            "Epoch 76/300\n",
            "8/8 [==============================] - 0s 570us/step - loss: 0.4725 - accuracy: 0.7810\n",
            "Epoch 77/300\n",
            "8/8 [==============================] - 0s 712us/step - loss: 0.4628 - accuracy: 0.7645\n",
            "Epoch 78/300\n",
            "8/8 [==============================] - 0s 712us/step - loss: 0.4605 - accuracy: 0.7851\n",
            "Epoch 79/300\n",
            "8/8 [==============================] - 0s 571us/step - loss: 0.4614 - accuracy: 0.7934\n",
            "Epoch 80/300\n",
            "8/8 [==============================] - 0s 712us/step - loss: 0.4666 - accuracy: 0.7851\n",
            "Epoch 81/300\n",
            "8/8 [==============================] - 0s 712us/step - loss: 0.4430 - accuracy: 0.8099\n",
            "Epoch 82/300\n",
            "8/8 [==============================] - 0s 712us/step - loss: 0.4444 - accuracy: 0.8017\n",
            "Epoch 83/300\n",
            "8/8 [==============================] - 0s 570us/step - loss: 0.4415 - accuracy: 0.8017\n",
            "Epoch 84/300\n",
            "8/8 [==============================] - 0s 569us/step - loss: 0.4450 - accuracy: 0.7810\n",
            "Epoch 85/300\n",
            "8/8 [==============================] - 0s 713us/step - loss: 0.4408 - accuracy: 0.8058\n",
            "Epoch 86/300\n",
            "8/8 [==============================] - 0s 712us/step - loss: 0.4340 - accuracy: 0.8099\n",
            "Epoch 87/300\n",
            "8/8 [==============================] - 0s 570us/step - loss: 0.4358 - accuracy: 0.7934\n",
            "Epoch 88/300\n",
            "8/8 [==============================] - 0s 712us/step - loss: 0.4386 - accuracy: 0.8017\n",
            "Epoch 89/300\n",
            "8/8 [==============================] - 0s 712us/step - loss: 0.4293 - accuracy: 0.8099\n",
            "Epoch 90/300\n",
            "8/8 [==============================] - 0s 712us/step - loss: 0.4283 - accuracy: 0.8099\n",
            "Epoch 91/300\n",
            "8/8 [==============================] - 0s 570us/step - loss: 0.4261 - accuracy: 0.8140\n",
            "Epoch 92/300\n",
            "8/8 [==============================] - 0s 712us/step - loss: 0.4329 - accuracy: 0.8058\n",
            "Epoch 93/300\n",
            "8/8 [==============================] - 0s 570us/step - loss: 0.4429 - accuracy: 0.7975\n",
            "Epoch 94/300\n",
            "8/8 [==============================] - 0s 570us/step - loss: 0.4255 - accuracy: 0.8099\n",
            "Epoch 95/300\n",
            "8/8 [==============================] - 0s 712us/step - loss: 0.4286 - accuracy: 0.8058\n",
            "Epoch 96/300\n",
            "8/8 [==============================] - 0s 712us/step - loss: 0.4220 - accuracy: 0.8223\n",
            "Epoch 97/300\n",
            "8/8 [==============================] - 0s 570us/step - loss: 0.4291 - accuracy: 0.7975\n",
            "Epoch 98/300\n",
            "8/8 [==============================] - 0s 713us/step - loss: 0.4341 - accuracy: 0.7893\n",
            "Epoch 99/300\n",
            "8/8 [==============================] - 0s 570us/step - loss: 0.4246 - accuracy: 0.8017\n",
            "Epoch 100/300\n",
            "8/8 [==============================] - 0s 713us/step - loss: 0.4194 - accuracy: 0.8058\n",
            "Epoch 101/300\n",
            "8/8 [==============================] - 0s 712us/step - loss: 0.4193 - accuracy: 0.8306\n",
            "Epoch 102/300\n",
            "8/8 [==============================] - 0s 570us/step - loss: 0.4160 - accuracy: 0.8182\n",
            "Epoch 103/300\n",
            "8/8 [==============================] - 0s 570us/step - loss: 0.4108 - accuracy: 0.8264\n",
            "Epoch 104/300\n",
            "8/8 [==============================] - 0s 712us/step - loss: 0.4109 - accuracy: 0.8306\n",
            "Epoch 105/300\n",
            "8/8 [==============================] - 0s 712us/step - loss: 0.4128 - accuracy: 0.8306\n",
            "Epoch 106/300\n",
            "8/8 [==============================] - 0s 570us/step - loss: 0.4239 - accuracy: 0.8223\n",
            "Epoch 107/300\n",
            "8/8 [==============================] - 0s 570us/step - loss: 0.4051 - accuracy: 0.8306\n",
            "Epoch 108/300\n",
            "8/8 [==============================] - 0s 713us/step - loss: 0.4110 - accuracy: 0.8182\n",
            "Epoch 109/300\n",
            "8/8 [==============================] - 0s 570us/step - loss: 0.4240 - accuracy: 0.8182\n",
            "Epoch 110/300\n",
            "8/8 [==============================] - 0s 712us/step - loss: 0.4147 - accuracy: 0.8099\n",
            "Epoch 111/300\n",
            "8/8 [==============================] - 0s 570us/step - loss: 0.4098 - accuracy: 0.8223\n",
            "Epoch 112/300\n",
            "8/8 [==============================] - 0s 712us/step - loss: 0.4084 - accuracy: 0.8264\n",
            "Epoch 113/300\n",
            "8/8 [==============================] - 0s 570us/step - loss: 0.4074 - accuracy: 0.8223\n",
            "Epoch 114/300\n",
            "8/8 [==============================] - 0s 570us/step - loss: 0.4038 - accuracy: 0.8306\n",
            "Epoch 115/300\n",
            "8/8 [==============================] - 0s 712us/step - loss: 0.4015 - accuracy: 0.8388\n",
            "Epoch 116/300\n",
            "8/8 [==============================] - 0s 569us/step - loss: 0.4063 - accuracy: 0.8223\n",
            "Epoch 117/300\n",
            "8/8 [==============================] - 0s 570us/step - loss: 0.4250 - accuracy: 0.8058\n",
            "Epoch 118/300\n",
            "8/8 [==============================] - 0s 712us/step - loss: 0.4445 - accuracy: 0.7893\n",
            "Epoch 119/300\n",
            "8/8 [==============================] - 0s 570us/step - loss: 0.4096 - accuracy: 0.8058\n",
            "Epoch 120/300\n",
            "8/8 [==============================] - 0s 569us/step - loss: 0.4066 - accuracy: 0.8058\n",
            "Epoch 121/300\n",
            "8/8 [==============================] - 0s 569us/step - loss: 0.4189 - accuracy: 0.7934\n",
            "Epoch 122/300\n",
            "8/8 [==============================] - 0s 712us/step - loss: 0.4070 - accuracy: 0.8140\n",
            "Epoch 123/300\n",
            "8/8 [==============================] - 0s 570us/step - loss: 0.4222 - accuracy: 0.8182\n",
            "Epoch 124/300\n",
            "8/8 [==============================] - 0s 712us/step - loss: 0.3999 - accuracy: 0.8430\n",
            "Epoch 125/300\n",
            "8/8 [==============================] - 0s 712us/step - loss: 0.3948 - accuracy: 0.8306\n",
            "Epoch 126/300\n",
            "8/8 [==============================] - 0s 712us/step - loss: 0.3996 - accuracy: 0.8430\n",
            "Epoch 127/300\n",
            "8/8 [==============================] - 0s 570us/step - loss: 0.3986 - accuracy: 0.8388\n",
            "Epoch 128/300\n",
            "8/8 [==============================] - 0s 712us/step - loss: 0.3887 - accuracy: 0.8512\n",
            "Epoch 129/300\n",
            "8/8 [==============================] - 0s 570us/step - loss: 0.3961 - accuracy: 0.8264\n",
            "Epoch 130/300\n",
            "8/8 [==============================] - 0s 570us/step - loss: 0.3968 - accuracy: 0.8595\n",
            "Epoch 131/300\n",
            "8/8 [==============================] - 0s 712us/step - loss: 0.4045 - accuracy: 0.8223\n",
            "Epoch 132/300\n",
            "8/8 [==============================] - 0s 570us/step - loss: 0.4155 - accuracy: 0.8182\n",
            "Epoch 133/300\n",
            "8/8 [==============================] - 0s 711us/step - loss: 0.3990 - accuracy: 0.8264\n",
            "Epoch 134/300\n",
            "8/8 [==============================] - 0s 712us/step - loss: 0.4107 - accuracy: 0.8223\n",
            "Epoch 135/300\n",
            "8/8 [==============================] - 0s 570us/step - loss: 0.3906 - accuracy: 0.8554\n",
            "Epoch 136/300\n",
            "8/8 [==============================] - 0s 712us/step - loss: 0.3841 - accuracy: 0.8512\n",
            "Epoch 137/300\n",
            "8/8 [==============================] - 0s 569us/step - loss: 0.3895 - accuracy: 0.8264\n",
            "Epoch 138/300\n",
            "8/8 [==============================] - 0s 712us/step - loss: 0.4196 - accuracy: 0.8182\n",
            "Epoch 139/300\n",
            "8/8 [==============================] - 0s 570us/step - loss: 0.4217 - accuracy: 0.8140\n",
            "Epoch 140/300\n",
            "8/8 [==============================] - 0s 570us/step - loss: 0.3940 - accuracy: 0.8430\n",
            "Epoch 141/300\n",
            "8/8 [==============================] - 0s 712us/step - loss: 0.3978 - accuracy: 0.8306\n",
            "Epoch 142/300\n",
            "8/8 [==============================] - 0s 712us/step - loss: 0.3837 - accuracy: 0.8595\n",
            "Epoch 143/300\n",
            "8/8 [==============================] - 0s 712us/step - loss: 0.3876 - accuracy: 0.8388\n",
            "Epoch 144/300\n",
            "8/8 [==============================] - 0s 712us/step - loss: 0.3820 - accuracy: 0.8678\n",
            "Epoch 145/300\n",
            "8/8 [==============================] - 0s 712us/step - loss: 0.3849 - accuracy: 0.8471\n",
            "Epoch 146/300\n",
            "8/8 [==============================] - 0s 570us/step - loss: 0.3821 - accuracy: 0.8678\n",
            "Epoch 147/300\n",
            "8/8 [==============================] - 0s 570us/step - loss: 0.3860 - accuracy: 0.8388\n",
            "Epoch 148/300\n",
            "8/8 [==============================] - 0s 712us/step - loss: 0.3828 - accuracy: 0.8471\n",
            "Epoch 149/300\n",
            "8/8 [==============================] - 0s 571us/step - loss: 0.3802 - accuracy: 0.8471\n",
            "Epoch 150/300\n",
            "8/8 [==============================] - 0s 712us/step - loss: 0.3838 - accuracy: 0.8512\n",
            "Epoch 151/300\n",
            "8/8 [==============================] - 0s 712us/step - loss: 0.3776 - accuracy: 0.8512\n",
            "Epoch 152/300\n",
            "8/8 [==============================] - 0s 570us/step - loss: 0.3804 - accuracy: 0.8471\n",
            "Epoch 153/300\n",
            "8/8 [==============================] - 0s 712us/step - loss: 0.3786 - accuracy: 0.8595\n",
            "Epoch 154/300\n",
            "8/8 [==============================] - 0s 570us/step - loss: 0.3862 - accuracy: 0.8471\n",
            "Epoch 155/300\n",
            "8/8 [==============================] - 0s 712us/step - loss: 0.3895 - accuracy: 0.8388\n",
            "Epoch 156/300\n",
            "8/8 [==============================] - 0s 570us/step - loss: 0.3829 - accuracy: 0.8306\n",
            "Epoch 157/300\n",
            "8/8 [==============================] - 0s 712us/step - loss: 0.3888 - accuracy: 0.8388\n",
            "Epoch 158/300\n",
            "8/8 [==============================] - 0s 570us/step - loss: 0.4001 - accuracy: 0.8223\n",
            "Epoch 159/300\n",
            "8/8 [==============================] - 0s 713us/step - loss: 0.3886 - accuracy: 0.8306\n",
            "Epoch 160/300\n",
            "8/8 [==============================] - 0s 570us/step - loss: 0.3798 - accuracy: 0.8471\n",
            "Epoch 161/300\n",
            "8/8 [==============================] - 0s 570us/step - loss: 0.3884 - accuracy: 0.8264\n",
            "Epoch 162/300\n",
            "8/8 [==============================] - 0s 712us/step - loss: 0.3876 - accuracy: 0.8182\n",
            "Epoch 163/300\n",
            "8/8 [==============================] - 0s 570us/step - loss: 0.4061 - accuracy: 0.8140\n",
            "Epoch 164/300\n",
            "8/8 [==============================] - 0s 570us/step - loss: 0.3723 - accuracy: 0.8512\n",
            "Epoch 165/300\n",
            "8/8 [==============================] - 0s 712us/step - loss: 0.3832 - accuracy: 0.8347\n",
            "Epoch 166/300\n",
            "8/8 [==============================] - 0s 854us/step - loss: 0.4051 - accuracy: 0.8099\n",
            "Epoch 167/300\n",
            "8/8 [==============================] - 0s 570us/step - loss: 0.3915 - accuracy: 0.8347\n",
            "Epoch 168/300\n",
            "8/8 [==============================] - 0s 571us/step - loss: 0.4167 - accuracy: 0.7893\n",
            "Epoch 169/300\n",
            "8/8 [==============================] - 0s 570us/step - loss: 0.3813 - accuracy: 0.8388\n",
            "Epoch 170/300\n",
            "8/8 [==============================] - 0s 571us/step - loss: 0.3788 - accuracy: 0.8264\n",
            "Epoch 171/300\n",
            "8/8 [==============================] - 0s 570us/step - loss: 0.3864 - accuracy: 0.8264\n",
            "Epoch 172/300\n",
            "8/8 [==============================] - 0s 713us/step - loss: 0.3724 - accuracy: 0.8388\n",
            "Epoch 173/300\n",
            "8/8 [==============================] - 0s 570us/step - loss: 0.3848 - accuracy: 0.8306\n",
            "Epoch 174/300\n",
            "8/8 [==============================] - 0s 570us/step - loss: 0.3767 - accuracy: 0.8595\n",
            "Epoch 175/300\n",
            "8/8 [==============================] - 0s 712us/step - loss: 0.3717 - accuracy: 0.8471\n",
            "Epoch 176/300\n",
            "8/8 [==============================] - 0s 701us/step - loss: 0.3740 - accuracy: 0.8512\n",
            "Epoch 177/300\n",
            "8/8 [==============================] - 0s 575us/step - loss: 0.3736 - accuracy: 0.8595\n",
            "Epoch 178/300\n",
            "8/8 [==============================] - 0s 571us/step - loss: 0.3781 - accuracy: 0.8306\n",
            "Epoch 179/300\n",
            "8/8 [==============================] - 0s 712us/step - loss: 0.3756 - accuracy: 0.8512\n",
            "Epoch 180/300\n",
            "8/8 [==============================] - 0s 569us/step - loss: 0.3927 - accuracy: 0.8306\n",
            "Epoch 181/300\n",
            "8/8 [==============================] - 0s 712us/step - loss: 0.3843 - accuracy: 0.8264\n",
            "Epoch 182/300\n",
            "8/8 [==============================] - 0s 712us/step - loss: 0.3794 - accuracy: 0.8512\n",
            "Epoch 183/300\n",
            "8/8 [==============================] - 0s 713us/step - loss: 0.3753 - accuracy: 0.8512\n",
            "Epoch 184/300\n",
            "8/8 [==============================] - 0s 569us/step - loss: 0.3728 - accuracy: 0.8471\n",
            "Epoch 185/300\n",
            "8/8 [==============================] - 0s 712us/step - loss: 0.4026 - accuracy: 0.8347\n",
            "Epoch 186/300\n",
            "8/8 [==============================] - 0s 712us/step - loss: 0.3694 - accuracy: 0.8554\n",
            "Epoch 187/300\n",
            "8/8 [==============================] - 0s 712us/step - loss: 0.3819 - accuracy: 0.8471\n",
            "Epoch 188/300\n",
            "8/8 [==============================] - 0s 712us/step - loss: 0.3834 - accuracy: 0.8471\n",
            "Epoch 189/300\n",
            "8/8 [==============================] - 0s 569us/step - loss: 0.3703 - accuracy: 0.8471\n",
            "Epoch 190/300\n",
            "8/8 [==============================] - 0s 712us/step - loss: 0.3980 - accuracy: 0.8306\n",
            "Epoch 191/300\n",
            "8/8 [==============================] - 0s 571us/step - loss: 0.3916 - accuracy: 0.8264\n",
            "Epoch 192/300\n",
            "8/8 [==============================] - 0s 569us/step - loss: 0.3770 - accuracy: 0.8223\n",
            "Epoch 193/300\n",
            "8/8 [==============================] - 0s 712us/step - loss: 0.3722 - accuracy: 0.8595\n",
            "Epoch 194/300\n",
            "8/8 [==============================] - 0s 571us/step - loss: 0.3783 - accuracy: 0.8430\n",
            "Epoch 195/300\n",
            "8/8 [==============================] - 0s 713us/step - loss: 0.3750 - accuracy: 0.8264\n",
            "Epoch 196/300\n",
            "8/8 [==============================] - 0s 569us/step - loss: 0.3758 - accuracy: 0.8347\n",
            "Epoch 197/300\n",
            "8/8 [==============================] - 0s 712us/step - loss: 0.3792 - accuracy: 0.8388\n",
            "Epoch 198/300\n",
            "8/8 [==============================] - 0s 571us/step - loss: 0.3688 - accuracy: 0.8595\n",
            "Epoch 199/300\n",
            "8/8 [==============================] - 0s 569us/step - loss: 0.3699 - accuracy: 0.8512\n",
            "Epoch 200/300\n",
            "8/8 [==============================] - 0s 712us/step - loss: 0.3732 - accuracy: 0.8554\n",
            "Epoch 201/300\n",
            "8/8 [==============================] - 0s 569us/step - loss: 0.3801 - accuracy: 0.8430\n",
            "Epoch 202/300\n",
            "8/8 [==============================] - 0s 570us/step - loss: 0.3916 - accuracy: 0.8058\n",
            "Epoch 203/300\n",
            "8/8 [==============================] - 0s 712us/step - loss: 0.4314 - accuracy: 0.7686\n",
            "Epoch 204/300\n",
            "8/8 [==============================] - 0s 570us/step - loss: 0.3959 - accuracy: 0.8140\n",
            "Epoch 205/300\n",
            "8/8 [==============================] - 0s 712us/step - loss: 0.3675 - accuracy: 0.8595\n",
            "Epoch 206/300\n",
            "8/8 [==============================] - 0s 570us/step - loss: 0.3703 - accuracy: 0.8430\n",
            "Epoch 207/300\n",
            "8/8 [==============================] - 0s 712us/step - loss: 0.3747 - accuracy: 0.8388\n",
            "Epoch 208/300\n",
            "8/8 [==============================] - 0s 712us/step - loss: 0.3676 - accuracy: 0.8554\n",
            "Epoch 209/300\n",
            "8/8 [==============================] - 0s 570us/step - loss: 0.3782 - accuracy: 0.8306\n",
            "Epoch 210/300\n",
            "8/8 [==============================] - 0s 569us/step - loss: 0.3829 - accuracy: 0.8182\n",
            "Epoch 211/300\n",
            "8/8 [==============================] - 0s 569us/step - loss: 0.3735 - accuracy: 0.8430\n",
            "Epoch 212/300\n",
            "8/8 [==============================] - 0s 712us/step - loss: 0.3681 - accuracy: 0.8471\n",
            "Epoch 213/300\n",
            "8/8 [==============================] - 0s 570us/step - loss: 0.3665 - accuracy: 0.8388\n",
            "Epoch 214/300\n",
            "8/8 [==============================] - 0s 855us/step - loss: 0.3733 - accuracy: 0.8306\n",
            "Epoch 215/300\n",
            "8/8 [==============================] - 0s 855us/step - loss: 0.3855 - accuracy: 0.8430\n",
            "Epoch 216/300\n",
            "8/8 [==============================] - 0s 855us/step - loss: 0.3749 - accuracy: 0.8306\n",
            "Epoch 217/300\n",
            "8/8 [==============================] - 0s 712us/step - loss: 0.3702 - accuracy: 0.8388\n",
            "Epoch 218/300\n",
            "8/8 [==============================] - 0s 570us/step - loss: 0.3665 - accuracy: 0.8471\n",
            "Epoch 219/300\n",
            "8/8 [==============================] - 0s 712us/step - loss: 0.3755 - accuracy: 0.8471\n",
            "Epoch 220/300\n",
            "8/8 [==============================] - 0s 570us/step - loss: 0.3642 - accuracy: 0.8595\n",
            "Epoch 221/300\n",
            "8/8 [==============================] - 0s 570us/step - loss: 0.3704 - accuracy: 0.8430\n",
            "Epoch 222/300\n",
            "8/8 [==============================] - 0s 712us/step - loss: 0.4041 - accuracy: 0.8182\n",
            "Epoch 223/300\n",
            "8/8 [==============================] - 0s 712us/step - loss: 0.3859 - accuracy: 0.8306\n",
            "Epoch 224/300\n",
            "8/8 [==============================] - 0s 712us/step - loss: 0.3724 - accuracy: 0.8388\n",
            "Epoch 225/300\n",
            "8/8 [==============================] - 0s 569us/step - loss: 0.4051 - accuracy: 0.8058\n",
            "Epoch 226/300\n",
            "8/8 [==============================] - 0s 570us/step - loss: 0.3841 - accuracy: 0.8430\n",
            "Epoch 227/300\n",
            "8/8 [==============================] - 0s 712us/step - loss: 0.3645 - accuracy: 0.8512\n",
            "Epoch 228/300\n",
            "8/8 [==============================] - 0s 569us/step - loss: 0.3688 - accuracy: 0.8554\n",
            "Epoch 229/300\n",
            "8/8 [==============================] - 0s 713us/step - loss: 0.3620 - accuracy: 0.8554\n",
            "Epoch 230/300\n",
            "8/8 [==============================] - 0s 570us/step - loss: 0.3634 - accuracy: 0.8554\n",
            "Epoch 231/300\n",
            "8/8 [==============================] - 0s 712us/step - loss: 0.3655 - accuracy: 0.8471\n",
            "Epoch 232/300\n",
            "8/8 [==============================] - 0s 712us/step - loss: 0.3655 - accuracy: 0.8554\n",
            "Epoch 233/300\n",
            "8/8 [==============================] - 0s 569us/step - loss: 0.3636 - accuracy: 0.8430\n",
            "Epoch 234/300\n",
            "8/8 [==============================] - 0s 570us/step - loss: 0.3620 - accuracy: 0.8512\n",
            "Epoch 235/300\n",
            "8/8 [==============================] - 0s 569us/step - loss: 0.3685 - accuracy: 0.8512\n",
            "Epoch 236/300\n",
            "8/8 [==============================] - 0s 570us/step - loss: 0.3612 - accuracy: 0.8347\n",
            "Epoch 237/300\n",
            "8/8 [==============================] - 0s 569us/step - loss: 0.4230 - accuracy: 0.7975\n",
            "Epoch 238/300\n",
            "8/8 [==============================] - 0s 712us/step - loss: 0.3769 - accuracy: 0.8347\n",
            "Epoch 239/300\n",
            "8/8 [==============================] - 0s 570us/step - loss: 0.3700 - accuracy: 0.8388\n",
            "Epoch 240/300\n",
            "8/8 [==============================] - 0s 712us/step - loss: 0.3664 - accuracy: 0.8430\n",
            "Epoch 241/300\n",
            "8/8 [==============================] - 0s 712us/step - loss: 0.3709 - accuracy: 0.8264\n",
            "Epoch 242/300\n",
            "8/8 [==============================] - 0s 570us/step - loss: 0.3691 - accuracy: 0.8512\n",
            "Epoch 243/300\n",
            "8/8 [==============================] - 0s 712us/step - loss: 0.3639 - accuracy: 0.8471\n",
            "Epoch 244/300\n",
            "8/8 [==============================] - 0s 569us/step - loss: 0.3673 - accuracy: 0.8471\n",
            "Epoch 245/300\n",
            "8/8 [==============================] - 0s 712us/step - loss: 0.3639 - accuracy: 0.8512\n",
            "Epoch 246/300\n",
            "8/8 [==============================] - 0s 570us/step - loss: 0.3628 - accuracy: 0.8554\n",
            "Epoch 247/300\n",
            "8/8 [==============================] - 0s 570us/step - loss: 0.3610 - accuracy: 0.8554\n",
            "Epoch 248/300\n",
            "8/8 [==============================] - 0s 712us/step - loss: 0.3621 - accuracy: 0.8388\n",
            "Epoch 249/300\n",
            "8/8 [==============================] - 0s 571us/step - loss: 0.3823 - accuracy: 0.8099\n",
            "Epoch 250/300\n",
            "8/8 [==============================] - 0s 570us/step - loss: 0.3739 - accuracy: 0.8347\n",
            "Epoch 251/300\n",
            "8/8 [==============================] - 0s 712us/step - loss: 0.3676 - accuracy: 0.8430\n",
            "Epoch 252/300\n",
            "8/8 [==============================] - 0s 713us/step - loss: 0.3647 - accuracy: 0.8554\n",
            "Epoch 253/300\n",
            "8/8 [==============================] - 0s 712us/step - loss: 0.3794 - accuracy: 0.8347\n",
            "Epoch 254/300\n",
            "8/8 [==============================] - 0s 570us/step - loss: 0.3593 - accuracy: 0.8430\n",
            "Epoch 255/300\n",
            "8/8 [==============================] - 0s 569us/step - loss: 0.3726 - accuracy: 0.8388\n",
            "Epoch 256/300\n",
            "8/8 [==============================] - 0s 712us/step - loss: 0.3675 - accuracy: 0.8264\n",
            "Epoch 257/300\n",
            "8/8 [==============================] - 0s 569us/step - loss: 0.3675 - accuracy: 0.8388\n",
            "Epoch 258/300\n",
            "8/8 [==============================] - 0s 712us/step - loss: 0.3733 - accuracy: 0.8223\n",
            "Epoch 259/300\n",
            "8/8 [==============================] - 0s 712us/step - loss: 0.3599 - accuracy: 0.8471\n",
            "Epoch 260/300\n",
            "8/8 [==============================] - 0s 712us/step - loss: 0.3601 - accuracy: 0.8512\n",
            "Epoch 261/300\n",
            "8/8 [==============================] - 0s 713us/step - loss: 0.3699 - accuracy: 0.8554\n",
            "Epoch 262/300\n",
            "8/8 [==============================] - 0s 712us/step - loss: 0.3673 - accuracy: 0.8554\n",
            "Epoch 263/300\n",
            "8/8 [==============================] - 0s 570us/step - loss: 0.3794 - accuracy: 0.8388\n",
            "Epoch 264/300\n",
            "8/8 [==============================] - 0s 712us/step - loss: 0.3637 - accuracy: 0.8512\n",
            "Epoch 265/300\n",
            "8/8 [==============================] - 0s 571us/step - loss: 0.3718 - accuracy: 0.8430\n",
            "Epoch 266/300\n",
            "8/8 [==============================] - 0s 712us/step - loss: 0.3963 - accuracy: 0.8264\n",
            "Epoch 267/300\n",
            "8/8 [==============================] - 0s 712us/step - loss: 0.4010 - accuracy: 0.8223\n",
            "Epoch 268/300\n",
            "8/8 [==============================] - 0s 713us/step - loss: 0.3645 - accuracy: 0.8388\n",
            "Epoch 269/300\n",
            "8/8 [==============================] - 0s 712us/step - loss: 0.3738 - accuracy: 0.8430\n",
            "Epoch 270/300\n",
            "8/8 [==============================] - 0s 712us/step - loss: 0.3949 - accuracy: 0.8182\n",
            "Epoch 271/300\n",
            "8/8 [==============================] - 0s 713us/step - loss: 0.4094 - accuracy: 0.8017\n",
            "Epoch 272/300\n",
            "8/8 [==============================] - 0s 570us/step - loss: 0.3872 - accuracy: 0.8388\n",
            "Epoch 273/300\n",
            "8/8 [==============================] - 0s 570us/step - loss: 0.3621 - accuracy: 0.8512\n",
            "Epoch 274/300\n",
            "8/8 [==============================] - 0s 712us/step - loss: 0.3599 - accuracy: 0.8512\n",
            "Epoch 275/300\n",
            "8/8 [==============================] - 0s 715us/step - loss: 0.3590 - accuracy: 0.8554\n",
            "Epoch 276/300\n",
            "8/8 [==============================] - 0s 707us/step - loss: 0.3662 - accuracy: 0.8306\n",
            "Epoch 277/300\n",
            "8/8 [==============================] - 0s 570us/step - loss: 0.3642 - accuracy: 0.8388\n",
            "Epoch 278/300\n",
            "8/8 [==============================] - 0s 712us/step - loss: 0.3812 - accuracy: 0.8347\n",
            "Epoch 279/300\n",
            "8/8 [==============================] - 0s 569us/step - loss: 0.3746 - accuracy: 0.8264\n",
            "Epoch 280/300\n",
            "8/8 [==============================] - 0s 570us/step - loss: 0.3683 - accuracy: 0.8347\n",
            "Epoch 281/300\n",
            "8/8 [==============================] - 0s 712us/step - loss: 0.3715 - accuracy: 0.8430\n",
            "Epoch 282/300\n",
            "8/8 [==============================] - 0s 569us/step - loss: 0.3740 - accuracy: 0.8430\n",
            "Epoch 283/300\n",
            "8/8 [==============================] - 0s 712us/step - loss: 0.3609 - accuracy: 0.8554\n",
            "Epoch 284/300\n",
            "8/8 [==============================] - 0s 569us/step - loss: 0.3631 - accuracy: 0.8554\n",
            "Epoch 285/300\n",
            "8/8 [==============================] - 0s 712us/step - loss: 0.3596 - accuracy: 0.8554\n",
            "Epoch 286/300\n",
            "8/8 [==============================] - 0s 570us/step - loss: 0.3649 - accuracy: 0.8471\n",
            "Epoch 287/300\n",
            "8/8 [==============================] - 0s 712us/step - loss: 0.3728 - accuracy: 0.8388\n",
            "Epoch 288/300\n",
            "8/8 [==============================] - 0s 569us/step - loss: 0.3784 - accuracy: 0.8182\n",
            "Epoch 289/300\n",
            "8/8 [==============================] - 0s 712us/step - loss: 0.3694 - accuracy: 0.8471\n",
            "Epoch 290/300\n",
            "8/8 [==============================] - 0s 569us/step - loss: 0.3632 - accuracy: 0.8554\n",
            "Epoch 291/300\n",
            "8/8 [==============================] - 0s 570us/step - loss: 0.3603 - accuracy: 0.8347\n",
            "Epoch 292/300\n",
            "8/8 [==============================] - 0s 712us/step - loss: 0.3811 - accuracy: 0.8264\n",
            "Epoch 293/300\n",
            "8/8 [==============================] - 0s 570us/step - loss: 0.3758 - accuracy: 0.8471\n",
            "Epoch 294/300\n",
            "8/8 [==============================] - 0s 712us/step - loss: 0.3588 - accuracy: 0.8595\n",
            "Epoch 295/300\n",
            "8/8 [==============================] - 0s 712us/step - loss: 0.3711 - accuracy: 0.8388\n",
            "Epoch 296/300\n",
            "8/8 [==============================] - 0s 570us/step - loss: 0.3589 - accuracy: 0.8388\n",
            "Epoch 297/300\n",
            "8/8 [==============================] - 0s 713us/step - loss: 0.3640 - accuracy: 0.8512\n",
            "Epoch 298/300\n",
            "8/8 [==============================] - 0s 712us/step - loss: 0.3614 - accuracy: 0.8512\n",
            "Epoch 299/300\n",
            "8/8 [==============================] - 0s 570us/step - loss: 0.3618 - accuracy: 0.8430\n",
            "Epoch 300/300\n",
            "8/8 [==============================] - 0s 712us/step - loss: 0.3725 - accuracy: 0.8388\n"
          ]
        },
        {
          "data": {
            "text/plain": [
              "<keras.callbacks.History at 0x21e1dcf5780>"
            ]
          },
          "execution_count": 69,
          "metadata": {},
          "output_type": "execute_result"
        }
      ],
      "source": [
        "model.fit(X_train,Y_train,epochs=300)"
      ]
    },
    {
      "cell_type": "code",
      "execution_count": 70,
      "metadata": {
        "_uuid": "c844af4f00d40c4cce4c4e5a9a01c9a892e9533d",
        "id": "XeVA3RdcRV5F"
      },
      "outputs": [],
      "source": [
        "Y_pred_nn = model.predict(X_test)"
      ]
    },
    {
      "cell_type": "code",
      "execution_count": 71,
      "metadata": {
        "_uuid": "7e95c4946c0103225663862f43f31c41ed5aa2b1",
        "colab": {
          "base_uri": "https://localhost:8080/"
        },
        "id": "lCr6VujuRV5F",
        "outputId": "ed65d622-40ee-4cdf-cb34-2095d7bdc99a"
      },
      "outputs": [
        {
          "data": {
            "text/plain": [
              "(61, 1)"
            ]
          },
          "execution_count": 71,
          "metadata": {},
          "output_type": "execute_result"
        }
      ],
      "source": [
        "Y_pred_nn.shape"
      ]
    },
    {
      "cell_type": "code",
      "execution_count": 72,
      "metadata": {
        "_uuid": "66d9268e3f87b5a98066196eaa39363218a20015",
        "id": "qFt2dJ42RV5F"
      },
      "outputs": [],
      "source": [
        "rounded = [round(x[0]) for x in Y_pred_nn]\n",
        "\n",
        "Y_pred_nn = rounded"
      ]
    },
    {
      "cell_type": "code",
      "execution_count": 73,
      "metadata": {
        "_uuid": "888d79632c3191c2d11c1ec3da8dc750c9d95424",
        "colab": {
          "base_uri": "https://localhost:8080/"
        },
        "id": "Jo2j1YtCRV5F",
        "outputId": "25906944-158e-4b95-db08-6ce4d6999263"
      },
      "outputs": [
        {
          "name": "stdout",
          "output_type": "stream",
          "text": [
            "The accuracy score achieved using Neural Network is: 83.61 %\n"
          ]
        }
      ],
      "source": [
        "score_nn = round(accuracy_score(Y_pred_nn,Y_test)*100,2)\n",
        "\n",
        "print(\"The accuracy score achieved using Neural Network is: \"+str(score_nn)+\" %\")\n",
        "\n",
        "#Note: Accuracy of 85% can be achieved on the test set, by setting epochs=2000, and number of nodes = 11. "
      ]
    },
    {
      "cell_type": "markdown",
      "metadata": {
        "_uuid": "c634cd922d716d350f6db0244772260cc598dec4",
        "id": "34bO9qjyRV5F"
      },
      "source": [
        "## VI. Output final score"
      ]
    },
    {
      "cell_type": "code",
      "execution_count": 74,
      "metadata": {
        "_uuid": "101daa51242624c49bb8b3198d9d2c9f8f1c596e",
        "colab": {
          "base_uri": "https://localhost:8080/"
        },
        "id": "ayZUqOI6RV5F",
        "outputId": "afd728e9-882f-40a2-b652-4c7ab0db4f86"
      },
      "outputs": [
        {
          "name": "stdout",
          "output_type": "stream",
          "text": [
            "The accuracy score achieved using Logistic Regression is: 85.25 %\n",
            "The accuracy score achieved using Naive Bayes is: 85.25 %\n",
            "The accuracy score achieved using Support Vector Machine is: 81.97 %\n",
            "The accuracy score achieved using K-Nearest Neighbors is: 67.21 %\n",
            "The accuracy score achieved using Decision Tree is: 81.97 %\n",
            "The accuracy score achieved using Random Forest is: 90.16 %\n",
            "The accuracy score achieved using XGBoost is: 78.69 %\n",
            "The accuracy score achieved using Neural Network is: 83.61 %\n"
          ]
        }
      ],
      "source": [
        "scores = [score_lr,score_nb,score_svm,score_knn,score_dt,score_rf,score_xgb,score_nn]\n",
        "algorithms = [\"Logistic Regression\",\"Naive Bayes\",\"Support Vector Machine\",\"K-Nearest Neighbors\",\"Decision Tree\",\"Random Forest\",\"XGBoost\",\"Neural Network\"]    \n",
        "\n",
        "for i in range(len(algorithms)):\n",
        "    print(\"The accuracy score achieved using \"+algorithms[i]+\" is: \"+str(scores[i])+\" %\")"
      ]
    },
    {
      "cell_type": "code",
      "execution_count": 75,
      "metadata": {
        "_uuid": "8060c7d426f9f7b64772f37e0a74ededca16838d",
        "colab": {
          "base_uri": "https://localhost:8080/",
          "height": 501
        },
        "id": "baRaJyW-RV5F",
        "outputId": "99767285-4568-4f0b-c09e-b982c57d7acb"
      },
      "outputs": [
        {
          "data": {
            "text/plain": [
              "<AxesSubplot:xlabel='Algorithms', ylabel='Accuracy score'>"
            ]
          },
          "execution_count": 75,
          "metadata": {},
          "output_type": "execute_result"
        },
        {
          "data": {
            "image/png": "[encoded data removed]",
            "text/plain": [
              "<Figure size 1080x576 with 1 Axes>"
            ]
          },
          "metadata": {},
          "output_type": "display_data"
        }
      ],
      "source": [
        "sns.set(rc={'figure.figsize':(15,8)})\n",
        "plt.xlabel(\"Algorithms\")\n",
        "plt.ylabel(\"Accuracy score\")\n",
        "\n",
        "sns.barplot(algorithms,scores)"
      ]
    },
    {
      "cell_type": "code",
      "execution_count": 76,
      "metadata": {
        "id": "t4I3KOHqouDo"
      },
      "outputs": [],
      "source": [
        "import pickle"
      ]
    },
    {
      "cell_type": "code",
      "execution_count": 77,
      "metadata": {
        "id": "U8W76GUbq8L1"
      },
      "outputs": [],
      "source": [
        "data = {\"model\": rf}\n",
        "with open('savedModel.pkl', 'wb') as model:\n",
        "    pickle.dump(data, model)"
      ]
    },
    {
      "cell_type": "code",
      "execution_count": 78,
      "metadata": {
        "colab": {
          "base_uri": "https://localhost:8080/"
        },
        "id": "UXcBJODvrKsH",
        "outputId": "4fd8f3fb-c56b-4450-d719-e4d8dd15ee62"
      },
      "outputs": [
        {
          "data": {
            "text/plain": [
              "(61,)"
            ]
          },
          "execution_count": 78,
          "metadata": {},
          "output_type": "execute_result"
        }
      ],
      "source": [
        "with open('savedModel.pkl', 'rb') as modelFile:\n",
        "    modelData = pickle.load(modelFile)\n",
        "\n",
        "classifier = modelData[\"model\"]\n",
        "Y_pred_cl = classifier.predict(X_test)\n",
        "Y_pred_cl.shape"
      ]
    },
    {
      "cell_type": "code",
      "execution_count": 79,
      "metadata": {
        "colab": {
          "base_uri": "https://localhost:8080/"
        },
        "id": "w-oID18krYVk",
        "outputId": "91b62b47-e457-4345-cf65-cd4ebb216d2a"
      },
      "outputs": [
        {
          "data": {
            "text/plain": [
              "array([0, 1, 1, 0, 0, 1, 0, 0, 0, 0, 1, 1, 0, 1, 1, 1, 0, 1, 0, 1, 1, 0,\n",
              "       0, 0, 1, 0, 0, 0, 1, 1, 1, 0, 1, 1, 1, 0, 0, 1, 0, 0, 1, 1, 1, 0,\n",
              "       1, 1, 1, 0, 0, 1, 1, 1, 1, 1, 1, 0, 1, 1, 1, 1, 1], dtype=int64)"
            ]
          },
          "execution_count": 79,
          "metadata": {},
          "output_type": "execute_result"
        }
      ],
      "source": [
        "Y_pred_cl"
      ]
    },
    {
      "cell_type": "code",
      "execution_count": 80,
      "metadata": {
        "colab": {
          "base_uri": "https://localhost:8080/"
        },
        "id": "765s6ky-rhZK",
        "outputId": "999362f1-dcdb-4fb2-c4ce-e9261270fbb5"
      },
      "outputs": [
        {
          "data": {
            "text/plain": [
              "array([0, 1, 1, 0, 0, 1, 0, 0, 0, 0, 1, 1, 0, 1, 1, 1, 0, 1, 0, 1, 1, 0,\n",
              "       0, 0, 1, 0, 0, 0, 1, 1, 1, 0, 1, 1, 1, 0, 0, 1, 0, 0, 1, 1, 1, 0,\n",
              "       1, 1, 1, 0, 0, 1, 1, 1, 1, 1, 1, 0, 1, 1, 1, 1, 1], dtype=int64)"
            ]
          },
          "execution_count": 80,
          "metadata": {},
          "output_type": "execute_result"
        }
      ],
      "source": [
        "Y_pred_rf"
      ]
    }
  ],
  "metadata": {
    "colab": {
      "name": "Heart_disease_prediction.ipynb",
      "provenance": []
    },
    "kernelspec": {
      "display_name": "Python 3 (ipykernel)",
      "language": "python",
      "name": "python3"
    },
    "language_info": {
      "codemirror_mode": {
        "name": "ipython",
        "version": 3
      },
      "file_extension": ".py",
      "mimetype": "text/x-python",
      "name": "python",
      "nbconvert_exporter": "python",
      "pygments_lexer": "ipython3",
      "version": "3.7.0"
    }
  },
  "nbformat": 4,
  "nbformat_minor": 0
}
